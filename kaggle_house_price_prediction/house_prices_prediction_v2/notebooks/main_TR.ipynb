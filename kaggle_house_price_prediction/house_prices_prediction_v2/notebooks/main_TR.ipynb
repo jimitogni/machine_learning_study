{
 "cells": [
  {
   "cell_type": "markdown",
   "id": "2034b423",
   "metadata": {},
   "source": [
    "# House Prices Prediction"
   ]
  },
  {
   "cell_type": "markdown",
   "id": "51cf3e2e",
   "metadata": {},
   "source": [
    "### Kütüphanelerin içe aktarılması"
   ]
  },
  {
   "cell_type": "code",
   "execution_count": 2,
   "id": "bf1e9854",
   "metadata": {},
   "outputs": [],
   "source": [
    "import pandas as pd\n",
    "import numpy as np\n",
    "import matplotlib.pyplot as plt\n",
    "#import bamboolib as bam\n",
    "import seaborn as sns\n",
    "import plotly.express as px\n"
   ]
  },
  {
   "cell_type": "markdown",
   "id": "999a720d",
   "metadata": {},
   "source": [
    "#### Veri setinin yüklenmesi"
   ]
  },
  {
   "cell_type": "code",
   "execution_count": 3,
   "id": "f1b89b31",
   "metadata": {},
   "outputs": [
    {
     "data": {
      "text/html": [
       "<div>\n",
       "<style scoped>\n",
       "    .dataframe tbody tr th:only-of-type {\n",
       "        vertical-align: middle;\n",
       "    }\n",
       "\n",
       "    .dataframe tbody tr th {\n",
       "        vertical-align: top;\n",
       "    }\n",
       "\n",
       "    .dataframe thead th {\n",
       "        text-align: right;\n",
       "    }\n",
       "</style>\n",
       "<table border=\"1\" class=\"dataframe\">\n",
       "  <thead>\n",
       "    <tr style=\"text-align: right;\">\n",
       "      <th></th>\n",
       "      <th>Id</th>\n",
       "      <th>MSSubClass</th>\n",
       "      <th>MSZoning</th>\n",
       "      <th>LotFrontage</th>\n",
       "      <th>LotArea</th>\n",
       "      <th>Street</th>\n",
       "      <th>Alley</th>\n",
       "      <th>LotShape</th>\n",
       "      <th>LandContour</th>\n",
       "      <th>Utilities</th>\n",
       "      <th>...</th>\n",
       "      <th>PoolArea</th>\n",
       "      <th>PoolQC</th>\n",
       "      <th>Fence</th>\n",
       "      <th>MiscFeature</th>\n",
       "      <th>MiscVal</th>\n",
       "      <th>MoSold</th>\n",
       "      <th>YrSold</th>\n",
       "      <th>SaleType</th>\n",
       "      <th>SaleCondition</th>\n",
       "      <th>SalePrice</th>\n",
       "    </tr>\n",
       "  </thead>\n",
       "  <tbody>\n",
       "    <tr>\n",
       "      <th>0</th>\n",
       "      <td>1</td>\n",
       "      <td>60</td>\n",
       "      <td>RL</td>\n",
       "      <td>65.0</td>\n",
       "      <td>8450</td>\n",
       "      <td>Pave</td>\n",
       "      <td>NaN</td>\n",
       "      <td>Reg</td>\n",
       "      <td>Lvl</td>\n",
       "      <td>AllPub</td>\n",
       "      <td>...</td>\n",
       "      <td>0</td>\n",
       "      <td>NaN</td>\n",
       "      <td>NaN</td>\n",
       "      <td>NaN</td>\n",
       "      <td>0</td>\n",
       "      <td>2</td>\n",
       "      <td>2008</td>\n",
       "      <td>WD</td>\n",
       "      <td>Normal</td>\n",
       "      <td>208500</td>\n",
       "    </tr>\n",
       "    <tr>\n",
       "      <th>1</th>\n",
       "      <td>2</td>\n",
       "      <td>20</td>\n",
       "      <td>RL</td>\n",
       "      <td>80.0</td>\n",
       "      <td>9600</td>\n",
       "      <td>Pave</td>\n",
       "      <td>NaN</td>\n",
       "      <td>Reg</td>\n",
       "      <td>Lvl</td>\n",
       "      <td>AllPub</td>\n",
       "      <td>...</td>\n",
       "      <td>0</td>\n",
       "      <td>NaN</td>\n",
       "      <td>NaN</td>\n",
       "      <td>NaN</td>\n",
       "      <td>0</td>\n",
       "      <td>5</td>\n",
       "      <td>2007</td>\n",
       "      <td>WD</td>\n",
       "      <td>Normal</td>\n",
       "      <td>181500</td>\n",
       "    </tr>\n",
       "    <tr>\n",
       "      <th>2</th>\n",
       "      <td>3</td>\n",
       "      <td>60</td>\n",
       "      <td>RL</td>\n",
       "      <td>68.0</td>\n",
       "      <td>11250</td>\n",
       "      <td>Pave</td>\n",
       "      <td>NaN</td>\n",
       "      <td>IR1</td>\n",
       "      <td>Lvl</td>\n",
       "      <td>AllPub</td>\n",
       "      <td>...</td>\n",
       "      <td>0</td>\n",
       "      <td>NaN</td>\n",
       "      <td>NaN</td>\n",
       "      <td>NaN</td>\n",
       "      <td>0</td>\n",
       "      <td>9</td>\n",
       "      <td>2008</td>\n",
       "      <td>WD</td>\n",
       "      <td>Normal</td>\n",
       "      <td>223500</td>\n",
       "    </tr>\n",
       "    <tr>\n",
       "      <th>3</th>\n",
       "      <td>4</td>\n",
       "      <td>70</td>\n",
       "      <td>RL</td>\n",
       "      <td>60.0</td>\n",
       "      <td>9550</td>\n",
       "      <td>Pave</td>\n",
       "      <td>NaN</td>\n",
       "      <td>IR1</td>\n",
       "      <td>Lvl</td>\n",
       "      <td>AllPub</td>\n",
       "      <td>...</td>\n",
       "      <td>0</td>\n",
       "      <td>NaN</td>\n",
       "      <td>NaN</td>\n",
       "      <td>NaN</td>\n",
       "      <td>0</td>\n",
       "      <td>2</td>\n",
       "      <td>2006</td>\n",
       "      <td>WD</td>\n",
       "      <td>Abnorml</td>\n",
       "      <td>140000</td>\n",
       "    </tr>\n",
       "    <tr>\n",
       "      <th>4</th>\n",
       "      <td>5</td>\n",
       "      <td>60</td>\n",
       "      <td>RL</td>\n",
       "      <td>84.0</td>\n",
       "      <td>14260</td>\n",
       "      <td>Pave</td>\n",
       "      <td>NaN</td>\n",
       "      <td>IR1</td>\n",
       "      <td>Lvl</td>\n",
       "      <td>AllPub</td>\n",
       "      <td>...</td>\n",
       "      <td>0</td>\n",
       "      <td>NaN</td>\n",
       "      <td>NaN</td>\n",
       "      <td>NaN</td>\n",
       "      <td>0</td>\n",
       "      <td>12</td>\n",
       "      <td>2008</td>\n",
       "      <td>WD</td>\n",
       "      <td>Normal</td>\n",
       "      <td>250000</td>\n",
       "    </tr>\n",
       "    <tr>\n",
       "      <th>...</th>\n",
       "      <td>...</td>\n",
       "      <td>...</td>\n",
       "      <td>...</td>\n",
       "      <td>...</td>\n",
       "      <td>...</td>\n",
       "      <td>...</td>\n",
       "      <td>...</td>\n",
       "      <td>...</td>\n",
       "      <td>...</td>\n",
       "      <td>...</td>\n",
       "      <td>...</td>\n",
       "      <td>...</td>\n",
       "      <td>...</td>\n",
       "      <td>...</td>\n",
       "      <td>...</td>\n",
       "      <td>...</td>\n",
       "      <td>...</td>\n",
       "      <td>...</td>\n",
       "      <td>...</td>\n",
       "      <td>...</td>\n",
       "      <td>...</td>\n",
       "    </tr>\n",
       "    <tr>\n",
       "      <th>1455</th>\n",
       "      <td>1456</td>\n",
       "      <td>60</td>\n",
       "      <td>RL</td>\n",
       "      <td>62.0</td>\n",
       "      <td>7917</td>\n",
       "      <td>Pave</td>\n",
       "      <td>NaN</td>\n",
       "      <td>Reg</td>\n",
       "      <td>Lvl</td>\n",
       "      <td>AllPub</td>\n",
       "      <td>...</td>\n",
       "      <td>0</td>\n",
       "      <td>NaN</td>\n",
       "      <td>NaN</td>\n",
       "      <td>NaN</td>\n",
       "      <td>0</td>\n",
       "      <td>8</td>\n",
       "      <td>2007</td>\n",
       "      <td>WD</td>\n",
       "      <td>Normal</td>\n",
       "      <td>175000</td>\n",
       "    </tr>\n",
       "    <tr>\n",
       "      <th>1456</th>\n",
       "      <td>1457</td>\n",
       "      <td>20</td>\n",
       "      <td>RL</td>\n",
       "      <td>85.0</td>\n",
       "      <td>13175</td>\n",
       "      <td>Pave</td>\n",
       "      <td>NaN</td>\n",
       "      <td>Reg</td>\n",
       "      <td>Lvl</td>\n",
       "      <td>AllPub</td>\n",
       "      <td>...</td>\n",
       "      <td>0</td>\n",
       "      <td>NaN</td>\n",
       "      <td>MnPrv</td>\n",
       "      <td>NaN</td>\n",
       "      <td>0</td>\n",
       "      <td>2</td>\n",
       "      <td>2010</td>\n",
       "      <td>WD</td>\n",
       "      <td>Normal</td>\n",
       "      <td>210000</td>\n",
       "    </tr>\n",
       "    <tr>\n",
       "      <th>1457</th>\n",
       "      <td>1458</td>\n",
       "      <td>70</td>\n",
       "      <td>RL</td>\n",
       "      <td>66.0</td>\n",
       "      <td>9042</td>\n",
       "      <td>Pave</td>\n",
       "      <td>NaN</td>\n",
       "      <td>Reg</td>\n",
       "      <td>Lvl</td>\n",
       "      <td>AllPub</td>\n",
       "      <td>...</td>\n",
       "      <td>0</td>\n",
       "      <td>NaN</td>\n",
       "      <td>GdPrv</td>\n",
       "      <td>Shed</td>\n",
       "      <td>2500</td>\n",
       "      <td>5</td>\n",
       "      <td>2010</td>\n",
       "      <td>WD</td>\n",
       "      <td>Normal</td>\n",
       "      <td>266500</td>\n",
       "    </tr>\n",
       "    <tr>\n",
       "      <th>1458</th>\n",
       "      <td>1459</td>\n",
       "      <td>20</td>\n",
       "      <td>RL</td>\n",
       "      <td>68.0</td>\n",
       "      <td>9717</td>\n",
       "      <td>Pave</td>\n",
       "      <td>NaN</td>\n",
       "      <td>Reg</td>\n",
       "      <td>Lvl</td>\n",
       "      <td>AllPub</td>\n",
       "      <td>...</td>\n",
       "      <td>0</td>\n",
       "      <td>NaN</td>\n",
       "      <td>NaN</td>\n",
       "      <td>NaN</td>\n",
       "      <td>0</td>\n",
       "      <td>4</td>\n",
       "      <td>2010</td>\n",
       "      <td>WD</td>\n",
       "      <td>Normal</td>\n",
       "      <td>142125</td>\n",
       "    </tr>\n",
       "    <tr>\n",
       "      <th>1459</th>\n",
       "      <td>1460</td>\n",
       "      <td>20</td>\n",
       "      <td>RL</td>\n",
       "      <td>75.0</td>\n",
       "      <td>9937</td>\n",
       "      <td>Pave</td>\n",
       "      <td>NaN</td>\n",
       "      <td>Reg</td>\n",
       "      <td>Lvl</td>\n",
       "      <td>AllPub</td>\n",
       "      <td>...</td>\n",
       "      <td>0</td>\n",
       "      <td>NaN</td>\n",
       "      <td>NaN</td>\n",
       "      <td>NaN</td>\n",
       "      <td>0</td>\n",
       "      <td>6</td>\n",
       "      <td>2008</td>\n",
       "      <td>WD</td>\n",
       "      <td>Normal</td>\n",
       "      <td>147500</td>\n",
       "    </tr>\n",
       "  </tbody>\n",
       "</table>\n",
       "<p>1460 rows × 81 columns</p>\n",
       "</div>"
      ],
      "text/plain": [
       "        Id  MSSubClass MSZoning  LotFrontage  LotArea Street Alley LotShape  \\\n",
       "0        1          60       RL         65.0     8450   Pave   NaN      Reg   \n",
       "1        2          20       RL         80.0     9600   Pave   NaN      Reg   \n",
       "2        3          60       RL         68.0    11250   Pave   NaN      IR1   \n",
       "3        4          70       RL         60.0     9550   Pave   NaN      IR1   \n",
       "4        5          60       RL         84.0    14260   Pave   NaN      IR1   \n",
       "...    ...         ...      ...          ...      ...    ...   ...      ...   \n",
       "1455  1456          60       RL         62.0     7917   Pave   NaN      Reg   \n",
       "1456  1457          20       RL         85.0    13175   Pave   NaN      Reg   \n",
       "1457  1458          70       RL         66.0     9042   Pave   NaN      Reg   \n",
       "1458  1459          20       RL         68.0     9717   Pave   NaN      Reg   \n",
       "1459  1460          20       RL         75.0     9937   Pave   NaN      Reg   \n",
       "\n",
       "     LandContour Utilities  ... PoolArea PoolQC  Fence MiscFeature MiscVal  \\\n",
       "0            Lvl    AllPub  ...        0    NaN    NaN         NaN       0   \n",
       "1            Lvl    AllPub  ...        0    NaN    NaN         NaN       0   \n",
       "2            Lvl    AllPub  ...        0    NaN    NaN         NaN       0   \n",
       "3            Lvl    AllPub  ...        0    NaN    NaN         NaN       0   \n",
       "4            Lvl    AllPub  ...        0    NaN    NaN         NaN       0   \n",
       "...          ...       ...  ...      ...    ...    ...         ...     ...   \n",
       "1455         Lvl    AllPub  ...        0    NaN    NaN         NaN       0   \n",
       "1456         Lvl    AllPub  ...        0    NaN  MnPrv         NaN       0   \n",
       "1457         Lvl    AllPub  ...        0    NaN  GdPrv        Shed    2500   \n",
       "1458         Lvl    AllPub  ...        0    NaN    NaN         NaN       0   \n",
       "1459         Lvl    AllPub  ...        0    NaN    NaN         NaN       0   \n",
       "\n",
       "     MoSold YrSold  SaleType  SaleCondition  SalePrice  \n",
       "0         2   2008        WD         Normal     208500  \n",
       "1         5   2007        WD         Normal     181500  \n",
       "2         9   2008        WD         Normal     223500  \n",
       "3         2   2006        WD        Abnorml     140000  \n",
       "4        12   2008        WD         Normal     250000  \n",
       "...     ...    ...       ...            ...        ...  \n",
       "1455      8   2007        WD         Normal     175000  \n",
       "1456      2   2010        WD         Normal     210000  \n",
       "1457      5   2010        WD         Normal     266500  \n",
       "1458      4   2010        WD         Normal     142125  \n",
       "1459      6   2008        WD         Normal     147500  \n",
       "\n",
       "[1460 rows x 81 columns]"
      ]
     },
     "execution_count": 3,
     "metadata": {},
     "output_type": "execute_result"
    }
   ],
   "source": [
    "df = pd.read_csv(r\"../data/house_price.csv\")\n",
    "df"
   ]
  },
  {
   "cell_type": "markdown",
   "id": "73737e66",
   "metadata": {},
   "source": [
    "#### Veri setinin incelenmesi"
   ]
  },
  {
   "cell_type": "code",
   "execution_count": 4,
   "id": "fcb2d5b4",
   "metadata": {},
   "outputs": [
    {
     "data": {
      "text/html": [
       "<div>\n",
       "<style scoped>\n",
       "    .dataframe tbody tr th:only-of-type {\n",
       "        vertical-align: middle;\n",
       "    }\n",
       "\n",
       "    .dataframe tbody tr th {\n",
       "        vertical-align: top;\n",
       "    }\n",
       "\n",
       "    .dataframe thead th {\n",
       "        text-align: right;\n",
       "    }\n",
       "</style>\n",
       "<table border=\"1\" class=\"dataframe\">\n",
       "  <thead>\n",
       "    <tr style=\"text-align: right;\">\n",
       "      <th></th>\n",
       "      <th>Id</th>\n",
       "      <th>MSSubClass</th>\n",
       "      <th>MSZoning</th>\n",
       "      <th>LotFrontage</th>\n",
       "      <th>LotArea</th>\n",
       "      <th>Street</th>\n",
       "      <th>Alley</th>\n",
       "      <th>LotShape</th>\n",
       "      <th>LandContour</th>\n",
       "      <th>Utilities</th>\n",
       "      <th>...</th>\n",
       "      <th>PoolArea</th>\n",
       "      <th>PoolQC</th>\n",
       "      <th>Fence</th>\n",
       "      <th>MiscFeature</th>\n",
       "      <th>MiscVal</th>\n",
       "      <th>MoSold</th>\n",
       "      <th>YrSold</th>\n",
       "      <th>SaleType</th>\n",
       "      <th>SaleCondition</th>\n",
       "      <th>SalePrice</th>\n",
       "    </tr>\n",
       "  </thead>\n",
       "  <tbody>\n",
       "    <tr>\n",
       "      <th>0</th>\n",
       "      <td>1</td>\n",
       "      <td>60</td>\n",
       "      <td>RL</td>\n",
       "      <td>65.0</td>\n",
       "      <td>8450</td>\n",
       "      <td>Pave</td>\n",
       "      <td>NaN</td>\n",
       "      <td>Reg</td>\n",
       "      <td>Lvl</td>\n",
       "      <td>AllPub</td>\n",
       "      <td>...</td>\n",
       "      <td>0</td>\n",
       "      <td>NaN</td>\n",
       "      <td>NaN</td>\n",
       "      <td>NaN</td>\n",
       "      <td>0</td>\n",
       "      <td>2</td>\n",
       "      <td>2008</td>\n",
       "      <td>WD</td>\n",
       "      <td>Normal</td>\n",
       "      <td>208500</td>\n",
       "    </tr>\n",
       "    <tr>\n",
       "      <th>1</th>\n",
       "      <td>2</td>\n",
       "      <td>20</td>\n",
       "      <td>RL</td>\n",
       "      <td>80.0</td>\n",
       "      <td>9600</td>\n",
       "      <td>Pave</td>\n",
       "      <td>NaN</td>\n",
       "      <td>Reg</td>\n",
       "      <td>Lvl</td>\n",
       "      <td>AllPub</td>\n",
       "      <td>...</td>\n",
       "      <td>0</td>\n",
       "      <td>NaN</td>\n",
       "      <td>NaN</td>\n",
       "      <td>NaN</td>\n",
       "      <td>0</td>\n",
       "      <td>5</td>\n",
       "      <td>2007</td>\n",
       "      <td>WD</td>\n",
       "      <td>Normal</td>\n",
       "      <td>181500</td>\n",
       "    </tr>\n",
       "    <tr>\n",
       "      <th>2</th>\n",
       "      <td>3</td>\n",
       "      <td>60</td>\n",
       "      <td>RL</td>\n",
       "      <td>68.0</td>\n",
       "      <td>11250</td>\n",
       "      <td>Pave</td>\n",
       "      <td>NaN</td>\n",
       "      <td>IR1</td>\n",
       "      <td>Lvl</td>\n",
       "      <td>AllPub</td>\n",
       "      <td>...</td>\n",
       "      <td>0</td>\n",
       "      <td>NaN</td>\n",
       "      <td>NaN</td>\n",
       "      <td>NaN</td>\n",
       "      <td>0</td>\n",
       "      <td>9</td>\n",
       "      <td>2008</td>\n",
       "      <td>WD</td>\n",
       "      <td>Normal</td>\n",
       "      <td>223500</td>\n",
       "    </tr>\n",
       "    <tr>\n",
       "      <th>3</th>\n",
       "      <td>4</td>\n",
       "      <td>70</td>\n",
       "      <td>RL</td>\n",
       "      <td>60.0</td>\n",
       "      <td>9550</td>\n",
       "      <td>Pave</td>\n",
       "      <td>NaN</td>\n",
       "      <td>IR1</td>\n",
       "      <td>Lvl</td>\n",
       "      <td>AllPub</td>\n",
       "      <td>...</td>\n",
       "      <td>0</td>\n",
       "      <td>NaN</td>\n",
       "      <td>NaN</td>\n",
       "      <td>NaN</td>\n",
       "      <td>0</td>\n",
       "      <td>2</td>\n",
       "      <td>2006</td>\n",
       "      <td>WD</td>\n",
       "      <td>Abnorml</td>\n",
       "      <td>140000</td>\n",
       "    </tr>\n",
       "    <tr>\n",
       "      <th>4</th>\n",
       "      <td>5</td>\n",
       "      <td>60</td>\n",
       "      <td>RL</td>\n",
       "      <td>84.0</td>\n",
       "      <td>14260</td>\n",
       "      <td>Pave</td>\n",
       "      <td>NaN</td>\n",
       "      <td>IR1</td>\n",
       "      <td>Lvl</td>\n",
       "      <td>AllPub</td>\n",
       "      <td>...</td>\n",
       "      <td>0</td>\n",
       "      <td>NaN</td>\n",
       "      <td>NaN</td>\n",
       "      <td>NaN</td>\n",
       "      <td>0</td>\n",
       "      <td>12</td>\n",
       "      <td>2008</td>\n",
       "      <td>WD</td>\n",
       "      <td>Normal</td>\n",
       "      <td>250000</td>\n",
       "    </tr>\n",
       "  </tbody>\n",
       "</table>\n",
       "<p>5 rows × 81 columns</p>\n",
       "</div>"
      ],
      "text/plain": [
       "   Id  MSSubClass MSZoning  LotFrontage  LotArea Street Alley LotShape  \\\n",
       "0   1          60       RL         65.0     8450   Pave   NaN      Reg   \n",
       "1   2          20       RL         80.0     9600   Pave   NaN      Reg   \n",
       "2   3          60       RL         68.0    11250   Pave   NaN      IR1   \n",
       "3   4          70       RL         60.0     9550   Pave   NaN      IR1   \n",
       "4   5          60       RL         84.0    14260   Pave   NaN      IR1   \n",
       "\n",
       "  LandContour Utilities  ... PoolArea PoolQC Fence MiscFeature MiscVal MoSold  \\\n",
       "0         Lvl    AllPub  ...        0    NaN   NaN         NaN       0      2   \n",
       "1         Lvl    AllPub  ...        0    NaN   NaN         NaN       0      5   \n",
       "2         Lvl    AllPub  ...        0    NaN   NaN         NaN       0      9   \n",
       "3         Lvl    AllPub  ...        0    NaN   NaN         NaN       0      2   \n",
       "4         Lvl    AllPub  ...        0    NaN   NaN         NaN       0     12   \n",
       "\n",
       "  YrSold  SaleType  SaleCondition  SalePrice  \n",
       "0   2008        WD         Normal     208500  \n",
       "1   2007        WD         Normal     181500  \n",
       "2   2008        WD         Normal     223500  \n",
       "3   2006        WD        Abnorml     140000  \n",
       "4   2008        WD         Normal     250000  \n",
       "\n",
       "[5 rows x 81 columns]"
      ]
     },
     "execution_count": 4,
     "metadata": {},
     "output_type": "execute_result"
    }
   ],
   "source": [
    "df.head()"
   ]
  },
  {
   "cell_type": "code",
   "execution_count": 5,
   "id": "9805f80b",
   "metadata": {},
   "outputs": [
    {
     "name": "stdout",
     "output_type": "stream",
     "text": [
      "<class 'pandas.core.frame.DataFrame'>\n",
      "RangeIndex: 1460 entries, 0 to 1459\n",
      "Data columns (total 81 columns):\n",
      " #   Column         Non-Null Count  Dtype  \n",
      "---  ------         --------------  -----  \n",
      " 0   Id             1460 non-null   int64  \n",
      " 1   MSSubClass     1460 non-null   int64  \n",
      " 2   MSZoning       1460 non-null   object \n",
      " 3   LotFrontage    1201 non-null   float64\n",
      " 4   LotArea        1460 non-null   int64  \n",
      " 5   Street         1460 non-null   object \n",
      " 6   Alley          91 non-null     object \n",
      " 7   LotShape       1460 non-null   object \n",
      " 8   LandContour    1460 non-null   object \n",
      " 9   Utilities      1460 non-null   object \n",
      " 10  LotConfig      1460 non-null   object \n",
      " 11  LandSlope      1460 non-null   object \n",
      " 12  Neighborhood   1460 non-null   object \n",
      " 13  Condition1     1460 non-null   object \n",
      " 14  Condition2     1460 non-null   object \n",
      " 15  BldgType       1460 non-null   object \n",
      " 16  HouseStyle     1460 non-null   object \n",
      " 17  OverallQual    1460 non-null   int64  \n",
      " 18  OverallCond    1460 non-null   int64  \n",
      " 19  YearBuilt      1460 non-null   int64  \n",
      " 20  YearRemodAdd   1460 non-null   int64  \n",
      " 21  RoofStyle      1460 non-null   object \n",
      " 22  RoofMatl       1460 non-null   object \n",
      " 23  Exterior1st    1460 non-null   object \n",
      " 24  Exterior2nd    1460 non-null   object \n",
      " 25  MasVnrType     1452 non-null   object \n",
      " 26  MasVnrArea     1452 non-null   float64\n",
      " 27  ExterQual      1460 non-null   object \n",
      " 28  ExterCond      1460 non-null   object \n",
      " 29  Foundation     1460 non-null   object \n",
      " 30  BsmtQual       1423 non-null   object \n",
      " 31  BsmtCond       1423 non-null   object \n",
      " 32  BsmtExposure   1422 non-null   object \n",
      " 33  BsmtFinType1   1423 non-null   object \n",
      " 34  BsmtFinSF1     1460 non-null   int64  \n",
      " 35  BsmtFinType2   1422 non-null   object \n",
      " 36  BsmtFinSF2     1460 non-null   int64  \n",
      " 37  BsmtUnfSF      1460 non-null   int64  \n",
      " 38  TotalBsmtSF    1460 non-null   int64  \n",
      " 39  Heating        1460 non-null   object \n",
      " 40  HeatingQC      1460 non-null   object \n",
      " 41  CentralAir     1460 non-null   object \n",
      " 42  Electrical     1459 non-null   object \n",
      " 43  1stFlrSF       1460 non-null   int64  \n",
      " 44  2ndFlrSF       1460 non-null   int64  \n",
      " 45  LowQualFinSF   1460 non-null   int64  \n",
      " 46  GrLivArea      1460 non-null   int64  \n",
      " 47  BsmtFullBath   1460 non-null   int64  \n",
      " 48  BsmtHalfBath   1460 non-null   int64  \n",
      " 49  FullBath       1460 non-null   int64  \n",
      " 50  HalfBath       1460 non-null   int64  \n",
      " 51  BedroomAbvGr   1460 non-null   int64  \n",
      " 52  KitchenAbvGr   1460 non-null   int64  \n",
      " 53  KitchenQual    1460 non-null   object \n",
      " 54  TotRmsAbvGrd   1460 non-null   int64  \n",
      " 55  Functional     1460 non-null   object \n",
      " 56  Fireplaces     1460 non-null   int64  \n",
      " 57  FireplaceQu    770 non-null    object \n",
      " 58  GarageType     1379 non-null   object \n",
      " 59  GarageYrBlt    1379 non-null   float64\n",
      " 60  GarageFinish   1379 non-null   object \n",
      " 61  GarageCars     1460 non-null   int64  \n",
      " 62  GarageArea     1460 non-null   int64  \n",
      " 63  GarageQual     1379 non-null   object \n",
      " 64  GarageCond     1379 non-null   object \n",
      " 65  PavedDrive     1460 non-null   object \n",
      " 66  WoodDeckSF     1460 non-null   int64  \n",
      " 67  OpenPorchSF    1460 non-null   int64  \n",
      " 68  EnclosedPorch  1460 non-null   int64  \n",
      " 69  3SsnPorch      1460 non-null   int64  \n",
      " 70  ScreenPorch    1460 non-null   int64  \n",
      " 71  PoolArea       1460 non-null   int64  \n",
      " 72  PoolQC         7 non-null      object \n",
      " 73  Fence          281 non-null    object \n",
      " 74  MiscFeature    54 non-null     object \n",
      " 75  MiscVal        1460 non-null   int64  \n",
      " 76  MoSold         1460 non-null   int64  \n",
      " 77  YrSold         1460 non-null   int64  \n",
      " 78  SaleType       1460 non-null   object \n",
      " 79  SaleCondition  1460 non-null   object \n",
      " 80  SalePrice      1460 non-null   int64  \n",
      "dtypes: float64(3), int64(35), object(43)\n",
      "memory usage: 924.0+ KB\n"
     ]
    }
   ],
   "source": [
    "df.info()"
   ]
  },
  {
   "cell_type": "code",
   "execution_count": 6,
   "id": "4cf89a71",
   "metadata": {},
   "outputs": [
    {
     "data": {
      "text/html": [
       "<div>\n",
       "<style scoped>\n",
       "    .dataframe tbody tr th:only-of-type {\n",
       "        vertical-align: middle;\n",
       "    }\n",
       "\n",
       "    .dataframe tbody tr th {\n",
       "        vertical-align: top;\n",
       "    }\n",
       "\n",
       "    .dataframe thead th {\n",
       "        text-align: right;\n",
       "    }\n",
       "</style>\n",
       "<table border=\"1\" class=\"dataframe\">\n",
       "  <thead>\n",
       "    <tr style=\"text-align: right;\">\n",
       "      <th></th>\n",
       "      <th>Id</th>\n",
       "      <th>MSSubClass</th>\n",
       "      <th>LotFrontage</th>\n",
       "      <th>LotArea</th>\n",
       "      <th>OverallQual</th>\n",
       "      <th>OverallCond</th>\n",
       "      <th>YearBuilt</th>\n",
       "      <th>YearRemodAdd</th>\n",
       "      <th>MasVnrArea</th>\n",
       "      <th>BsmtFinSF1</th>\n",
       "      <th>...</th>\n",
       "      <th>WoodDeckSF</th>\n",
       "      <th>OpenPorchSF</th>\n",
       "      <th>EnclosedPorch</th>\n",
       "      <th>3SsnPorch</th>\n",
       "      <th>ScreenPorch</th>\n",
       "      <th>PoolArea</th>\n",
       "      <th>MiscVal</th>\n",
       "      <th>MoSold</th>\n",
       "      <th>YrSold</th>\n",
       "      <th>SalePrice</th>\n",
       "    </tr>\n",
       "  </thead>\n",
       "  <tbody>\n",
       "    <tr>\n",
       "      <th>count</th>\n",
       "      <td>1460.000000</td>\n",
       "      <td>1460.000000</td>\n",
       "      <td>1201.000000</td>\n",
       "      <td>1460.000000</td>\n",
       "      <td>1460.000000</td>\n",
       "      <td>1460.000000</td>\n",
       "      <td>1460.000000</td>\n",
       "      <td>1460.000000</td>\n",
       "      <td>1452.000000</td>\n",
       "      <td>1460.000000</td>\n",
       "      <td>...</td>\n",
       "      <td>1460.000000</td>\n",
       "      <td>1460.000000</td>\n",
       "      <td>1460.000000</td>\n",
       "      <td>1460.000000</td>\n",
       "      <td>1460.000000</td>\n",
       "      <td>1460.000000</td>\n",
       "      <td>1460.000000</td>\n",
       "      <td>1460.000000</td>\n",
       "      <td>1460.000000</td>\n",
       "      <td>1460.000000</td>\n",
       "    </tr>\n",
       "    <tr>\n",
       "      <th>mean</th>\n",
       "      <td>730.500000</td>\n",
       "      <td>56.897260</td>\n",
       "      <td>70.049958</td>\n",
       "      <td>10516.828082</td>\n",
       "      <td>6.099315</td>\n",
       "      <td>5.575342</td>\n",
       "      <td>1971.267808</td>\n",
       "      <td>1984.865753</td>\n",
       "      <td>103.685262</td>\n",
       "      <td>443.639726</td>\n",
       "      <td>...</td>\n",
       "      <td>94.244521</td>\n",
       "      <td>46.660274</td>\n",
       "      <td>21.954110</td>\n",
       "      <td>3.409589</td>\n",
       "      <td>15.060959</td>\n",
       "      <td>2.758904</td>\n",
       "      <td>43.489041</td>\n",
       "      <td>6.321918</td>\n",
       "      <td>2007.815753</td>\n",
       "      <td>180921.195890</td>\n",
       "    </tr>\n",
       "    <tr>\n",
       "      <th>std</th>\n",
       "      <td>421.610009</td>\n",
       "      <td>42.300571</td>\n",
       "      <td>24.284752</td>\n",
       "      <td>9981.264932</td>\n",
       "      <td>1.382997</td>\n",
       "      <td>1.112799</td>\n",
       "      <td>30.202904</td>\n",
       "      <td>20.645407</td>\n",
       "      <td>181.066207</td>\n",
       "      <td>456.098091</td>\n",
       "      <td>...</td>\n",
       "      <td>125.338794</td>\n",
       "      <td>66.256028</td>\n",
       "      <td>61.119149</td>\n",
       "      <td>29.317331</td>\n",
       "      <td>55.757415</td>\n",
       "      <td>40.177307</td>\n",
       "      <td>496.123024</td>\n",
       "      <td>2.703626</td>\n",
       "      <td>1.328095</td>\n",
       "      <td>79442.502883</td>\n",
       "    </tr>\n",
       "    <tr>\n",
       "      <th>min</th>\n",
       "      <td>1.000000</td>\n",
       "      <td>20.000000</td>\n",
       "      <td>21.000000</td>\n",
       "      <td>1300.000000</td>\n",
       "      <td>1.000000</td>\n",
       "      <td>1.000000</td>\n",
       "      <td>1872.000000</td>\n",
       "      <td>1950.000000</td>\n",
       "      <td>0.000000</td>\n",
       "      <td>0.000000</td>\n",
       "      <td>...</td>\n",
       "      <td>0.000000</td>\n",
       "      <td>0.000000</td>\n",
       "      <td>0.000000</td>\n",
       "      <td>0.000000</td>\n",
       "      <td>0.000000</td>\n",
       "      <td>0.000000</td>\n",
       "      <td>0.000000</td>\n",
       "      <td>1.000000</td>\n",
       "      <td>2006.000000</td>\n",
       "      <td>34900.000000</td>\n",
       "    </tr>\n",
       "    <tr>\n",
       "      <th>25%</th>\n",
       "      <td>365.750000</td>\n",
       "      <td>20.000000</td>\n",
       "      <td>59.000000</td>\n",
       "      <td>7553.500000</td>\n",
       "      <td>5.000000</td>\n",
       "      <td>5.000000</td>\n",
       "      <td>1954.000000</td>\n",
       "      <td>1967.000000</td>\n",
       "      <td>0.000000</td>\n",
       "      <td>0.000000</td>\n",
       "      <td>...</td>\n",
       "      <td>0.000000</td>\n",
       "      <td>0.000000</td>\n",
       "      <td>0.000000</td>\n",
       "      <td>0.000000</td>\n",
       "      <td>0.000000</td>\n",
       "      <td>0.000000</td>\n",
       "      <td>0.000000</td>\n",
       "      <td>5.000000</td>\n",
       "      <td>2007.000000</td>\n",
       "      <td>129975.000000</td>\n",
       "    </tr>\n",
       "    <tr>\n",
       "      <th>50%</th>\n",
       "      <td>730.500000</td>\n",
       "      <td>50.000000</td>\n",
       "      <td>69.000000</td>\n",
       "      <td>9478.500000</td>\n",
       "      <td>6.000000</td>\n",
       "      <td>5.000000</td>\n",
       "      <td>1973.000000</td>\n",
       "      <td>1994.000000</td>\n",
       "      <td>0.000000</td>\n",
       "      <td>383.500000</td>\n",
       "      <td>...</td>\n",
       "      <td>0.000000</td>\n",
       "      <td>25.000000</td>\n",
       "      <td>0.000000</td>\n",
       "      <td>0.000000</td>\n",
       "      <td>0.000000</td>\n",
       "      <td>0.000000</td>\n",
       "      <td>0.000000</td>\n",
       "      <td>6.000000</td>\n",
       "      <td>2008.000000</td>\n",
       "      <td>163000.000000</td>\n",
       "    </tr>\n",
       "    <tr>\n",
       "      <th>75%</th>\n",
       "      <td>1095.250000</td>\n",
       "      <td>70.000000</td>\n",
       "      <td>80.000000</td>\n",
       "      <td>11601.500000</td>\n",
       "      <td>7.000000</td>\n",
       "      <td>6.000000</td>\n",
       "      <td>2000.000000</td>\n",
       "      <td>2004.000000</td>\n",
       "      <td>166.000000</td>\n",
       "      <td>712.250000</td>\n",
       "      <td>...</td>\n",
       "      <td>168.000000</td>\n",
       "      <td>68.000000</td>\n",
       "      <td>0.000000</td>\n",
       "      <td>0.000000</td>\n",
       "      <td>0.000000</td>\n",
       "      <td>0.000000</td>\n",
       "      <td>0.000000</td>\n",
       "      <td>8.000000</td>\n",
       "      <td>2009.000000</td>\n",
       "      <td>214000.000000</td>\n",
       "    </tr>\n",
       "    <tr>\n",
       "      <th>max</th>\n",
       "      <td>1460.000000</td>\n",
       "      <td>190.000000</td>\n",
       "      <td>313.000000</td>\n",
       "      <td>215245.000000</td>\n",
       "      <td>10.000000</td>\n",
       "      <td>9.000000</td>\n",
       "      <td>2010.000000</td>\n",
       "      <td>2010.000000</td>\n",
       "      <td>1600.000000</td>\n",
       "      <td>5644.000000</td>\n",
       "      <td>...</td>\n",
       "      <td>857.000000</td>\n",
       "      <td>547.000000</td>\n",
       "      <td>552.000000</td>\n",
       "      <td>508.000000</td>\n",
       "      <td>480.000000</td>\n",
       "      <td>738.000000</td>\n",
       "      <td>15500.000000</td>\n",
       "      <td>12.000000</td>\n",
       "      <td>2010.000000</td>\n",
       "      <td>755000.000000</td>\n",
       "    </tr>\n",
       "  </tbody>\n",
       "</table>\n",
       "<p>8 rows × 38 columns</p>\n",
       "</div>"
      ],
      "text/plain": [
       "                Id   MSSubClass  LotFrontage        LotArea  OverallQual  \\\n",
       "count  1460.000000  1460.000000  1201.000000    1460.000000  1460.000000   \n",
       "mean    730.500000    56.897260    70.049958   10516.828082     6.099315   \n",
       "std     421.610009    42.300571    24.284752    9981.264932     1.382997   \n",
       "min       1.000000    20.000000    21.000000    1300.000000     1.000000   \n",
       "25%     365.750000    20.000000    59.000000    7553.500000     5.000000   \n",
       "50%     730.500000    50.000000    69.000000    9478.500000     6.000000   \n",
       "75%    1095.250000    70.000000    80.000000   11601.500000     7.000000   \n",
       "max    1460.000000   190.000000   313.000000  215245.000000    10.000000   \n",
       "\n",
       "       OverallCond    YearBuilt  YearRemodAdd   MasVnrArea   BsmtFinSF1  ...  \\\n",
       "count  1460.000000  1460.000000   1460.000000  1452.000000  1460.000000  ...   \n",
       "mean      5.575342  1971.267808   1984.865753   103.685262   443.639726  ...   \n",
       "std       1.112799    30.202904     20.645407   181.066207   456.098091  ...   \n",
       "min       1.000000  1872.000000   1950.000000     0.000000     0.000000  ...   \n",
       "25%       5.000000  1954.000000   1967.000000     0.000000     0.000000  ...   \n",
       "50%       5.000000  1973.000000   1994.000000     0.000000   383.500000  ...   \n",
       "75%       6.000000  2000.000000   2004.000000   166.000000   712.250000  ...   \n",
       "max       9.000000  2010.000000   2010.000000  1600.000000  5644.000000  ...   \n",
       "\n",
       "        WoodDeckSF  OpenPorchSF  EnclosedPorch    3SsnPorch  ScreenPorch  \\\n",
       "count  1460.000000  1460.000000    1460.000000  1460.000000  1460.000000   \n",
       "mean     94.244521    46.660274      21.954110     3.409589    15.060959   \n",
       "std     125.338794    66.256028      61.119149    29.317331    55.757415   \n",
       "min       0.000000     0.000000       0.000000     0.000000     0.000000   \n",
       "25%       0.000000     0.000000       0.000000     0.000000     0.000000   \n",
       "50%       0.000000    25.000000       0.000000     0.000000     0.000000   \n",
       "75%     168.000000    68.000000       0.000000     0.000000     0.000000   \n",
       "max     857.000000   547.000000     552.000000   508.000000   480.000000   \n",
       "\n",
       "          PoolArea       MiscVal       MoSold       YrSold      SalePrice  \n",
       "count  1460.000000   1460.000000  1460.000000  1460.000000    1460.000000  \n",
       "mean      2.758904     43.489041     6.321918  2007.815753  180921.195890  \n",
       "std      40.177307    496.123024     2.703626     1.328095   79442.502883  \n",
       "min       0.000000      0.000000     1.000000  2006.000000   34900.000000  \n",
       "25%       0.000000      0.000000     5.000000  2007.000000  129975.000000  \n",
       "50%       0.000000      0.000000     6.000000  2008.000000  163000.000000  \n",
       "75%       0.000000      0.000000     8.000000  2009.000000  214000.000000  \n",
       "max     738.000000  15500.000000    12.000000  2010.000000  755000.000000  \n",
       "\n",
       "[8 rows x 38 columns]"
      ]
     },
     "execution_count": 6,
     "metadata": {},
     "output_type": "execute_result"
    }
   ],
   "source": [
    "df.describe()"
   ]
  },
  {
   "cell_type": "code",
   "execution_count": 7,
   "id": "e915cf75",
   "metadata": {},
   "outputs": [
    {
     "data": {
      "text/plain": [
       "PoolQC         1453\n",
       "MiscFeature    1406\n",
       "Alley          1369\n",
       "Fence          1179\n",
       "FireplaceQu     690\n",
       "               ... \n",
       "ExterQual         0\n",
       "Exterior2nd       0\n",
       "Exterior1st       0\n",
       "RoofMatl          0\n",
       "SalePrice         0\n",
       "Length: 81, dtype: int64"
      ]
     },
     "execution_count": 7,
     "metadata": {},
     "output_type": "execute_result"
    }
   ],
   "source": [
    "df.isnull().sum().sort_values(ascending=False)"
   ]
  },
  {
   "cell_type": "markdown",
   "id": "2b7fc221",
   "metadata": {},
   "source": [
    "#### Pandas profiling - İsteğe bağlı"
   ]
  },
  {
   "cell_type": "code",
   "execution_count": 8,
   "id": "fc9c2ff8",
   "metadata": {},
   "outputs": [],
   "source": [
    "# import pandas_profiling \n",
    "\n",
    "# profile = droppedDf.profile_report(title='Pandas Profiling Report')\n",
    "# profile.to_file(output_file=\"Data_Profiling_v3.html\")"
   ]
  },
  {
   "cell_type": "markdown",
   "id": "30fd9f2c",
   "metadata": {},
   "source": [
    "#### Kategorik ve nümerik alanlar için veri görselleştirme"
   ]
  },
  {
   "cell_type": "markdown",
   "id": "9bdce711",
   "metadata": {},
   "source": [
    "Hedef değişken olan \"SalePrice\" alanındaki verilerin dağılımlarının incelenmesi"
   ]
  },
  {
   "cell_type": "code",
   "execution_count": 9,
   "id": "36d1c339",
   "metadata": {},
   "outputs": [
    {
     "data": {
      "application/vnd.plotly.v1+json": {
       "config": {
        "plotlyServerURL": "https://plot.ly"
       },
       "data": [
        {
         "alignmentgroup": "True",
         "bingroup": "x",
         "hovertemplate": "SalePrice=%{x}<br>count=%{y}<extra></extra>",
         "legendgroup": "",
         "marker": {
          "color": "#636efa",
          "pattern": {
           "shape": ""
          }
         },
         "name": "",
         "offsetgroup": "",
         "orientation": "v",
         "showlegend": false,
         "type": "histogram",
         "x": [
          208500,
          181500,
          223500,
          140000,
          250000,
          143000,
          307000,
          200000,
          129900,
          118000,
          129500,
          345000,
          144000,
          279500,
          157000,
          132000,
          149000,
          90000,
          159000,
          139000,
          325300,
          139400,
          230000,
          129900,
          154000,
          256300,
          134800,
          306000,
          207500,
          68500,
          40000,
          149350,
          179900,
          165500,
          277500,
          309000,
          145000,
          153000,
          109000,
          82000,
          160000,
          170000,
          144000,
          130250,
          141000,
          319900,
          239686,
          249700,
          113000,
          127000,
          177000,
          114500,
          110000,
          385000,
          130000,
          180500,
          172500,
          196500,
          438780,
          124900,
          158000,
          101000,
          202500,
          140000,
          219500,
          317000,
          180000,
          226000,
          80000,
          225000,
          244000,
          129500,
          185000,
          144900,
          107400,
          91000,
          135750,
          127000,
          136500,
          110000,
          193500,
          153500,
          245000,
          126500,
          168500,
          260000,
          174000,
          164500,
          85000,
          123600,
          109900,
          98600,
          163500,
          133900,
          204750,
          185000,
          214000,
          94750,
          83000,
          128950,
          205000,
          178000,
          118964,
          198900,
          169500,
          250000,
          100000,
          115000,
          115000,
          190000,
          136900,
          180000,
          383970,
          217000,
          259500,
          176000,
          139000,
          155000,
          320000,
          163990,
          180000,
          100000,
          136000,
          153900,
          181000,
          84500,
          128000,
          87000,
          155000,
          150000,
          226000,
          244000,
          150750,
          220000,
          180000,
          174000,
          143000,
          171000,
          230000,
          231500,
          115000,
          260000,
          166000,
          204000,
          125000,
          130000,
          105000,
          222500,
          141000,
          115000,
          122000,
          372402,
          190000,
          235000,
          125000,
          79000,
          109500,
          269500,
          254900,
          320000,
          162500,
          412500,
          220000,
          103200,
          152000,
          127500,
          190000,
          325624,
          183500,
          228000,
          128500,
          215000,
          239000,
          163000,
          184000,
          243000,
          211000,
          172500,
          501837,
          100000,
          177000,
          200100,
          120000,
          200000,
          127000,
          475000,
          173000,
          135000,
          153337,
          286000,
          315000,
          184000,
          192000,
          130000,
          127000,
          148500,
          311872,
          235000,
          104000,
          274900,
          140000,
          171500,
          112000,
          149000,
          110000,
          180500,
          143900,
          141000,
          277000,
          145000,
          98000,
          186000,
          252678,
          156000,
          161750,
          134450,
          210000,
          107000,
          311500,
          167240,
          204900,
          200000,
          179900,
          97000,
          386250,
          112000,
          290000,
          106000,
          125000,
          192500,
          148000,
          403000,
          94500,
          128200,
          216500,
          89500,
          185500,
          194500,
          318000,
          113000,
          262500,
          110500,
          79000,
          120000,
          205000,
          241500,
          137000,
          140000,
          180000,
          277000,
          76500,
          235000,
          173000,
          158000,
          145000,
          230000,
          207500,
          220000,
          231500,
          97000,
          176000,
          276000,
          151000,
          130000,
          73000,
          175500,
          185000,
          179500,
          120500,
          148000,
          266000,
          241500,
          290000,
          139000,
          124500,
          205000,
          201000,
          141000,
          415298,
          192000,
          228500,
          185000,
          207500,
          244600,
          179200,
          164700,
          159000,
          88000,
          122000,
          153575,
          233230,
          135900,
          131000,
          235000,
          167000,
          142500,
          152000,
          239000,
          175000,
          158500,
          157000,
          267000,
          205000,
          149900,
          295000,
          305900,
          225000,
          89500,
          82500,
          360000,
          165600,
          132000,
          119900,
          375000,
          178000,
          188500,
          260000,
          270000,
          260000,
          187500,
          342643,
          354000,
          301000,
          126175,
          242000,
          87000,
          324000,
          145250,
          214500,
          78000,
          119000,
          139000,
          284000,
          207000,
          192000,
          228950,
          377426,
          214000,
          202500,
          155000,
          202900,
          82000,
          87500,
          266000,
          85000,
          140200,
          151500,
          157500,
          154000,
          437154,
          318061,
          190000,
          95000,
          105900,
          140000,
          177500,
          173000,
          134000,
          130000,
          280000,
          156000,
          145000,
          198500,
          118000,
          190000,
          147000,
          159000,
          165000,
          132000,
          162000,
          172400,
          134432,
          125000,
          123000,
          219500,
          61000,
          148000,
          340000,
          394432,
          179000,
          127000,
          187750,
          213500,
          76000,
          240000,
          192000,
          81000,
          125000,
          191000,
          426000,
          119000,
          215000,
          106500,
          100000,
          109000,
          129000,
          123000,
          169500,
          67000,
          241000,
          245500,
          164990,
          108000,
          258000,
          168000,
          150000,
          115000,
          177000,
          280000,
          339750,
          60000,
          145000,
          222000,
          115000,
          228000,
          181134,
          149500,
          239000,
          126000,
          142000,
          206300,
          215000,
          113000,
          315000,
          139000,
          135000,
          275000,
          109008,
          195400,
          175000,
          85400,
          79900,
          122500,
          181000,
          81000,
          212000,
          116000,
          119000,
          90350,
          110000,
          555000,
          118000,
          162900,
          172500,
          210000,
          127500,
          190000,
          199900,
          119500,
          120000,
          110000,
          280000,
          204000,
          210000,
          188000,
          175500,
          98000,
          256000,
          161000,
          110000,
          263435,
          155000,
          62383,
          188700,
          124000,
          178740,
          167000,
          146500,
          250000,
          187000,
          212000,
          190000,
          148000,
          440000,
          251000,
          132500,
          208900,
          380000,
          297000,
          89471,
          326000,
          374000,
          155000,
          164000,
          132500,
          147000,
          156000,
          175000,
          160000,
          86000,
          115000,
          133000,
          172785,
          155000,
          91300,
          34900,
          430000,
          184000,
          130000,
          120000,
          113000,
          226700,
          140000,
          289000,
          147000,
          124500,
          215000,
          208300,
          161000,
          124500,
          164900,
          202665,
          129900,
          134000,
          96500,
          402861,
          158000,
          265000,
          211000,
          234000,
          106250,
          150000,
          159000,
          184750,
          315750,
          176000,
          132000,
          446261,
          86000,
          200624,
          175000,
          128000,
          107500,
          39300,
          178000,
          107500,
          188000,
          111250,
          158000,
          272000,
          315000,
          248000,
          213250,
          133000,
          179665,
          229000,
          210000,
          129500,
          125000,
          263000,
          140000,
          112500,
          255500,
          108000,
          284000,
          113000,
          141000,
          108000,
          175000,
          234000,
          121500,
          170000,
          108000,
          185000,
          268000,
          128000,
          325000,
          214000,
          316600,
          135960,
          142600,
          120000,
          224500,
          170000,
          139000,
          118500,
          145000,
          164500,
          146000,
          131500,
          181900,
          253293,
          118500,
          325000,
          133000,
          369900,
          130000,
          137000,
          143000,
          79500,
          185900,
          451950,
          138000,
          140000,
          110000,
          319000,
          114504,
          194201,
          217500,
          151000,
          275000,
          141000,
          220000,
          151000,
          221000,
          205000,
          152000,
          225000,
          359100,
          118500,
          313000,
          148000,
          261500,
          147000,
          75500,
          137500,
          183200,
          105500,
          314813,
          305000,
          67000,
          240000,
          135000,
          168500,
          165150,
          160000,
          139900,
          153000,
          135000,
          168500,
          124000,
          209500,
          82500,
          139400,
          144000,
          200000,
          60000,
          93000,
          85000,
          264561,
          274000,
          226000,
          345000,
          152000,
          370878,
          143250,
          98300,
          155000,
          155000,
          84500,
          205950,
          108000,
          191000,
          135000,
          350000,
          88000,
          145500,
          149000,
          97500,
          167000,
          197900,
          402000,
          110000,
          137500,
          423000,
          230500,
          129000,
          193500,
          168000,
          137500,
          173500,
          103600,
          165000,
          257500,
          140000,
          148500,
          87000,
          109500,
          372500,
          128500,
          143000,
          159434,
          173000,
          285000,
          221000,
          207500,
          227875,
          148800,
          392000,
          194700,
          141000,
          755000,
          335000,
          108480,
          141500,
          176000,
          89000,
          123500,
          138500,
          196000,
          312500,
          140000,
          361919,
          140000,
          213000,
          55000,
          302000,
          254000,
          179540,
          109900,
          52000,
          102776,
          189000,
          129000,
          130500,
          165000,
          159500,
          157000,
          341000,
          128500,
          275000,
          143000,
          124500,
          135000,
          320000,
          120500,
          222000,
          194500,
          110000,
          103000,
          236500,
          187500,
          222500,
          131400,
          108000,
          163000,
          93500,
          239900,
          179000,
          190000,
          132000,
          142000,
          179000,
          175000,
          180000,
          299800,
          236000,
          265979,
          260400,
          98000,
          96500,
          162000,
          217000,
          275500,
          156000,
          172500,
          212000,
          158900,
          179400,
          290000,
          127500,
          100000,
          215200,
          337000,
          270000,
          264132,
          196500,
          160000,
          216837,
          538000,
          134900,
          102000,
          107000,
          114500,
          395000,
          162000,
          221500,
          142500,
          144000,
          135000,
          176000,
          175900,
          187100,
          165500,
          128000,
          161500,
          139000,
          233000,
          107900,
          187500,
          160200,
          146800,
          269790,
          225000,
          194500,
          171000,
          143500,
          110000,
          485000,
          175000,
          200000,
          109900,
          189000,
          582933,
          118000,
          227680,
          135500,
          223500,
          159950,
          106000,
          181000,
          144500,
          55993,
          157900,
          116000,
          224900,
          137000,
          271000,
          155000,
          224000,
          183000,
          93000,
          225000,
          139500,
          232600,
          385000,
          109500,
          189000,
          185000,
          147400,
          166000,
          151000,
          237000,
          167000,
          139950,
          128000,
          153500,
          100000,
          144000,
          130500,
          140000,
          157500,
          174900,
          141000,
          153900,
          171000,
          213000,
          133500,
          240000,
          187000,
          131500,
          215000,
          164000,
          158000,
          170000,
          127000,
          147000,
          174000,
          152000,
          250000,
          189950,
          131500,
          152000,
          132500,
          250580,
          148500,
          248900,
          129000,
          169000,
          236000,
          109500,
          200500,
          116000,
          133000,
          66500,
          303477,
          132250,
          350000,
          148000,
          136500,
          157000,
          187500,
          178000,
          118500,
          100000,
          328900,
          145000,
          135500,
          268000,
          149500,
          122900,
          172500,
          154500,
          165000,
          118858,
          140000,
          106500,
          142953,
          611657,
          135000,
          110000,
          153000,
          180000,
          240000,
          125500,
          128000,
          255000,
          250000,
          131000,
          174000,
          154300,
          143500,
          88000,
          145000,
          173733,
          75000,
          35311,
          135000,
          238000,
          176500,
          201000,
          145900,
          169990,
          193000,
          207500,
          175000,
          285000,
          176000,
          236500,
          222000,
          201000,
          117500,
          320000,
          190000,
          242000,
          79900,
          184900,
          253000,
          239799,
          244400,
          150900,
          214000,
          150000,
          143000,
          137500,
          124900,
          143000,
          270000,
          192500,
          197500,
          129000,
          119900,
          133900,
          172000,
          127500,
          145000,
          124000,
          132000,
          185000,
          155000,
          116500,
          272000,
          155000,
          239000,
          214900,
          178900,
          160000,
          135000,
          37900,
          140000,
          135000,
          173000,
          99500,
          182000,
          167500,
          165000,
          85500,
          199900,
          110000,
          139000,
          178400,
          336000,
          159895,
          255900,
          126000,
          125000,
          117000,
          395192,
          195000,
          197000,
          348000,
          168000,
          187000,
          173900,
          337500,
          121600,
          136500,
          185000,
          91000,
          206000,
          82000,
          86000,
          232000,
          136905,
          181000,
          149900,
          163500,
          88000,
          240000,
          102000,
          135000,
          100000,
          165000,
          85000,
          119200,
          227000,
          203000,
          187500,
          160000,
          213490,
          176000,
          194000,
          87000,
          191000,
          287000,
          112500,
          167500,
          293077,
          105000,
          118000,
          160000,
          197000,
          310000,
          230000,
          119750,
          84000,
          315500,
          287000,
          97000,
          80000,
          155000,
          173000,
          196000,
          262280,
          278000,
          139600,
          556581,
          145000,
          115000,
          84900,
          176485,
          200141,
          165000,
          144500,
          255000,
          180000,
          185850,
          248000,
          335000,
          220000,
          213500,
          81000,
          90000,
          110500,
          154000,
          328000,
          178000,
          167900,
          151400,
          135000,
          135000,
          154000,
          91500,
          159500,
          194000,
          219500,
          170000,
          138800,
          155900,
          126000,
          145000,
          133000,
          192000,
          160000,
          187500,
          147000,
          83500,
          252000,
          137500,
          197000,
          92900,
          160000,
          136500,
          146000,
          129000,
          176432,
          127000,
          170000,
          128000,
          157000,
          60000,
          119500,
          135000,
          159500,
          106000,
          325000,
          179900,
          274725,
          181000,
          280000,
          188000,
          205000,
          129900,
          134500,
          117000,
          318000,
          184100,
          130000,
          140000,
          133700,
          118400,
          212900,
          112000,
          118000,
          163900,
          115000,
          174000,
          259000,
          215000,
          140000,
          135000,
          93500,
          117500,
          239500,
          169000,
          102000,
          119000,
          94000,
          196000,
          144000,
          139000,
          197500,
          424870,
          80000,
          80000,
          149000,
          180000,
          174500,
          116900,
          143000,
          124000,
          149900,
          230000,
          120500,
          201800,
          218000,
          179900,
          230000,
          235128,
          185000,
          146000,
          224000,
          129000,
          108959,
          194000,
          233170,
          245350,
          173000,
          235000,
          625000,
          171000,
          163000,
          171900,
          200500,
          239000,
          285000,
          119500,
          115000,
          154900,
          93000,
          250000,
          392500,
          745000,
          120000,
          186700,
          104900,
          95000,
          262000,
          195000,
          189000,
          168000,
          174000,
          125000,
          165000,
          158000,
          176000,
          219210,
          144000,
          178000,
          148000,
          116050,
          197900,
          117000,
          213000,
          153500,
          271900,
          107000,
          200000,
          140000,
          290000,
          189000,
          164000,
          113000,
          145000,
          134500,
          125000,
          112000,
          229456,
          80500,
          91500,
          115000,
          134000,
          143000,
          137900,
          184000,
          145000,
          214000,
          147000,
          367294,
          127000,
          190000,
          132500,
          101800,
          142000,
          130000,
          138887,
          175500,
          195000,
          142500,
          265900,
          224900,
          248328,
          170000,
          465000,
          230000,
          178000,
          186500,
          169900,
          129500,
          119000,
          244000,
          171750,
          130000,
          294000,
          165400,
          127500,
          301500,
          99900,
          190000,
          151000,
          181000,
          128900,
          161500,
          180500,
          181000,
          183900,
          122000,
          378500,
          381000,
          144000,
          260000,
          185750,
          137000,
          177000,
          139000,
          137000,
          162000,
          197900,
          237000,
          68400,
          227000,
          180000,
          150500,
          139000,
          169000,
          132500,
          143000,
          190000,
          278000,
          281000,
          180500,
          119500,
          107500,
          162900,
          115000,
          138500,
          155000,
          140000,
          160000,
          154000,
          225000,
          177500,
          290000,
          232000,
          130000,
          325000,
          202500,
          138000,
          147000,
          179200,
          335000,
          203000,
          302000,
          333168,
          119000,
          206900,
          295493,
          208900,
          275000,
          111000,
          156500,
          72500,
          190000,
          82500,
          147000,
          55000,
          79000,
          130500,
          256000,
          176500,
          227000,
          132500,
          100000,
          125500,
          125000,
          167900,
          135000,
          52500,
          200000,
          128500,
          123000,
          155000,
          228500,
          177000,
          155835,
          108500,
          262500,
          283463,
          215000,
          122000,
          200000,
          171000,
          134900,
          410000,
          235000,
          170000,
          110000,
          149900,
          177500,
          315000,
          189000,
          260000,
          104900,
          156932,
          144152,
          216000,
          193000,
          127000,
          144000,
          232000,
          105000,
          165500,
          274300,
          466500,
          250000,
          239000,
          91000,
          117000,
          83000,
          167500,
          58500,
          237500,
          157000,
          112000,
          105000,
          125500,
          250000,
          136000,
          377500,
          131000,
          235000,
          124000,
          123000,
          163000,
          246578,
          281213,
          160000,
          137500,
          138000,
          137450,
          120000,
          193000,
          193879,
          282922,
          105000,
          275000,
          133000,
          112000,
          125500,
          215000,
          230000,
          140000,
          90000,
          257000,
          207000,
          175900,
          122500,
          340000,
          124000,
          223000,
          179900,
          127500,
          136500,
          274970,
          144000,
          142000,
          271000,
          140000,
          119000,
          182900,
          192140,
          143750,
          64500,
          186500,
          160000,
          174000,
          120500,
          394617,
          149700,
          197000,
          191000,
          149300,
          310000,
          121000,
          179600,
          129000,
          157900,
          240000,
          112000,
          92000,
          136000,
          287090,
          145000,
          84500,
          185000,
          175000,
          210000,
          266500,
          142125,
          147500
         ],
         "xaxis": "x",
         "yaxis": "y"
        }
       ],
       "layout": {
        "barmode": "relative",
        "legend": {
         "tracegroupgap": 0
        },
        "margin": {
         "t": 60
        },
        "template": {
         "data": {
          "bar": [
           {
            "error_x": {
             "color": "#2a3f5f"
            },
            "error_y": {
             "color": "#2a3f5f"
            },
            "marker": {
             "line": {
              "color": "#E5ECF6",
              "width": 0.5
             },
             "pattern": {
              "fillmode": "overlay",
              "size": 10,
              "solidity": 0.2
             }
            },
            "type": "bar"
           }
          ],
          "barpolar": [
           {
            "marker": {
             "line": {
              "color": "#E5ECF6",
              "width": 0.5
             },
             "pattern": {
              "fillmode": "overlay",
              "size": 10,
              "solidity": 0.2
             }
            },
            "type": "barpolar"
           }
          ],
          "carpet": [
           {
            "aaxis": {
             "endlinecolor": "#2a3f5f",
             "gridcolor": "white",
             "linecolor": "white",
             "minorgridcolor": "white",
             "startlinecolor": "#2a3f5f"
            },
            "baxis": {
             "endlinecolor": "#2a3f5f",
             "gridcolor": "white",
             "linecolor": "white",
             "minorgridcolor": "white",
             "startlinecolor": "#2a3f5f"
            },
            "type": "carpet"
           }
          ],
          "choropleth": [
           {
            "colorbar": {
             "outlinewidth": 0,
             "ticks": ""
            },
            "type": "choropleth"
           }
          ],
          "contour": [
           {
            "colorbar": {
             "outlinewidth": 0,
             "ticks": ""
            },
            "colorscale": [
             [
              0,
              "#0d0887"
             ],
             [
              0.1111111111111111,
              "#46039f"
             ],
             [
              0.2222222222222222,
              "#7201a8"
             ],
             [
              0.3333333333333333,
              "#9c179e"
             ],
             [
              0.4444444444444444,
              "#bd3786"
             ],
             [
              0.5555555555555556,
              "#d8576b"
             ],
             [
              0.6666666666666666,
              "#ed7953"
             ],
             [
              0.7777777777777778,
              "#fb9f3a"
             ],
             [
              0.8888888888888888,
              "#fdca26"
             ],
             [
              1,
              "#f0f921"
             ]
            ],
            "type": "contour"
           }
          ],
          "contourcarpet": [
           {
            "colorbar": {
             "outlinewidth": 0,
             "ticks": ""
            },
            "type": "contourcarpet"
           }
          ],
          "heatmap": [
           {
            "colorbar": {
             "outlinewidth": 0,
             "ticks": ""
            },
            "colorscale": [
             [
              0,
              "#0d0887"
             ],
             [
              0.1111111111111111,
              "#46039f"
             ],
             [
              0.2222222222222222,
              "#7201a8"
             ],
             [
              0.3333333333333333,
              "#9c179e"
             ],
             [
              0.4444444444444444,
              "#bd3786"
             ],
             [
              0.5555555555555556,
              "#d8576b"
             ],
             [
              0.6666666666666666,
              "#ed7953"
             ],
             [
              0.7777777777777778,
              "#fb9f3a"
             ],
             [
              0.8888888888888888,
              "#fdca26"
             ],
             [
              1,
              "#f0f921"
             ]
            ],
            "type": "heatmap"
           }
          ],
          "heatmapgl": [
           {
            "colorbar": {
             "outlinewidth": 0,
             "ticks": ""
            },
            "colorscale": [
             [
              0,
              "#0d0887"
             ],
             [
              0.1111111111111111,
              "#46039f"
             ],
             [
              0.2222222222222222,
              "#7201a8"
             ],
             [
              0.3333333333333333,
              "#9c179e"
             ],
             [
              0.4444444444444444,
              "#bd3786"
             ],
             [
              0.5555555555555556,
              "#d8576b"
             ],
             [
              0.6666666666666666,
              "#ed7953"
             ],
             [
              0.7777777777777778,
              "#fb9f3a"
             ],
             [
              0.8888888888888888,
              "#fdca26"
             ],
             [
              1,
              "#f0f921"
             ]
            ],
            "type": "heatmapgl"
           }
          ],
          "histogram": [
           {
            "marker": {
             "pattern": {
              "fillmode": "overlay",
              "size": 10,
              "solidity": 0.2
             }
            },
            "type": "histogram"
           }
          ],
          "histogram2d": [
           {
            "colorbar": {
             "outlinewidth": 0,
             "ticks": ""
            },
            "colorscale": [
             [
              0,
              "#0d0887"
             ],
             [
              0.1111111111111111,
              "#46039f"
             ],
             [
              0.2222222222222222,
              "#7201a8"
             ],
             [
              0.3333333333333333,
              "#9c179e"
             ],
             [
              0.4444444444444444,
              "#bd3786"
             ],
             [
              0.5555555555555556,
              "#d8576b"
             ],
             [
              0.6666666666666666,
              "#ed7953"
             ],
             [
              0.7777777777777778,
              "#fb9f3a"
             ],
             [
              0.8888888888888888,
              "#fdca26"
             ],
             [
              1,
              "#f0f921"
             ]
            ],
            "type": "histogram2d"
           }
          ],
          "histogram2dcontour": [
           {
            "colorbar": {
             "outlinewidth": 0,
             "ticks": ""
            },
            "colorscale": [
             [
              0,
              "#0d0887"
             ],
             [
              0.1111111111111111,
              "#46039f"
             ],
             [
              0.2222222222222222,
              "#7201a8"
             ],
             [
              0.3333333333333333,
              "#9c179e"
             ],
             [
              0.4444444444444444,
              "#bd3786"
             ],
             [
              0.5555555555555556,
              "#d8576b"
             ],
             [
              0.6666666666666666,
              "#ed7953"
             ],
             [
              0.7777777777777778,
              "#fb9f3a"
             ],
             [
              0.8888888888888888,
              "#fdca26"
             ],
             [
              1,
              "#f0f921"
             ]
            ],
            "type": "histogram2dcontour"
           }
          ],
          "mesh3d": [
           {
            "colorbar": {
             "outlinewidth": 0,
             "ticks": ""
            },
            "type": "mesh3d"
           }
          ],
          "parcoords": [
           {
            "line": {
             "colorbar": {
              "outlinewidth": 0,
              "ticks": ""
             }
            },
            "type": "parcoords"
           }
          ],
          "pie": [
           {
            "automargin": true,
            "type": "pie"
           }
          ],
          "scatter": [
           {
            "marker": {
             "colorbar": {
              "outlinewidth": 0,
              "ticks": ""
             }
            },
            "type": "scatter"
           }
          ],
          "scatter3d": [
           {
            "line": {
             "colorbar": {
              "outlinewidth": 0,
              "ticks": ""
             }
            },
            "marker": {
             "colorbar": {
              "outlinewidth": 0,
              "ticks": ""
             }
            },
            "type": "scatter3d"
           }
          ],
          "scattercarpet": [
           {
            "marker": {
             "colorbar": {
              "outlinewidth": 0,
              "ticks": ""
             }
            },
            "type": "scattercarpet"
           }
          ],
          "scattergeo": [
           {
            "marker": {
             "colorbar": {
              "outlinewidth": 0,
              "ticks": ""
             }
            },
            "type": "scattergeo"
           }
          ],
          "scattergl": [
           {
            "marker": {
             "colorbar": {
              "outlinewidth": 0,
              "ticks": ""
             }
            },
            "type": "scattergl"
           }
          ],
          "scattermapbox": [
           {
            "marker": {
             "colorbar": {
              "outlinewidth": 0,
              "ticks": ""
             }
            },
            "type": "scattermapbox"
           }
          ],
          "scatterpolar": [
           {
            "marker": {
             "colorbar": {
              "outlinewidth": 0,
              "ticks": ""
             }
            },
            "type": "scatterpolar"
           }
          ],
          "scatterpolargl": [
           {
            "marker": {
             "colorbar": {
              "outlinewidth": 0,
              "ticks": ""
             }
            },
            "type": "scatterpolargl"
           }
          ],
          "scatterternary": [
           {
            "marker": {
             "colorbar": {
              "outlinewidth": 0,
              "ticks": ""
             }
            },
            "type": "scatterternary"
           }
          ],
          "surface": [
           {
            "colorbar": {
             "outlinewidth": 0,
             "ticks": ""
            },
            "colorscale": [
             [
              0,
              "#0d0887"
             ],
             [
              0.1111111111111111,
              "#46039f"
             ],
             [
              0.2222222222222222,
              "#7201a8"
             ],
             [
              0.3333333333333333,
              "#9c179e"
             ],
             [
              0.4444444444444444,
              "#bd3786"
             ],
             [
              0.5555555555555556,
              "#d8576b"
             ],
             [
              0.6666666666666666,
              "#ed7953"
             ],
             [
              0.7777777777777778,
              "#fb9f3a"
             ],
             [
              0.8888888888888888,
              "#fdca26"
             ],
             [
              1,
              "#f0f921"
             ]
            ],
            "type": "surface"
           }
          ],
          "table": [
           {
            "cells": {
             "fill": {
              "color": "#EBF0F8"
             },
             "line": {
              "color": "white"
             }
            },
            "header": {
             "fill": {
              "color": "#C8D4E3"
             },
             "line": {
              "color": "white"
             }
            },
            "type": "table"
           }
          ]
         },
         "layout": {
          "annotationdefaults": {
           "arrowcolor": "#2a3f5f",
           "arrowhead": 0,
           "arrowwidth": 1
          },
          "autotypenumbers": "strict",
          "coloraxis": {
           "colorbar": {
            "outlinewidth": 0,
            "ticks": ""
           }
          },
          "colorscale": {
           "diverging": [
            [
             0,
             "#8e0152"
            ],
            [
             0.1,
             "#c51b7d"
            ],
            [
             0.2,
             "#de77ae"
            ],
            [
             0.3,
             "#f1b6da"
            ],
            [
             0.4,
             "#fde0ef"
            ],
            [
             0.5,
             "#f7f7f7"
            ],
            [
             0.6,
             "#e6f5d0"
            ],
            [
             0.7,
             "#b8e186"
            ],
            [
             0.8,
             "#7fbc41"
            ],
            [
             0.9,
             "#4d9221"
            ],
            [
             1,
             "#276419"
            ]
           ],
           "sequential": [
            [
             0,
             "#0d0887"
            ],
            [
             0.1111111111111111,
             "#46039f"
            ],
            [
             0.2222222222222222,
             "#7201a8"
            ],
            [
             0.3333333333333333,
             "#9c179e"
            ],
            [
             0.4444444444444444,
             "#bd3786"
            ],
            [
             0.5555555555555556,
             "#d8576b"
            ],
            [
             0.6666666666666666,
             "#ed7953"
            ],
            [
             0.7777777777777778,
             "#fb9f3a"
            ],
            [
             0.8888888888888888,
             "#fdca26"
            ],
            [
             1,
             "#f0f921"
            ]
           ],
           "sequentialminus": [
            [
             0,
             "#0d0887"
            ],
            [
             0.1111111111111111,
             "#46039f"
            ],
            [
             0.2222222222222222,
             "#7201a8"
            ],
            [
             0.3333333333333333,
             "#9c179e"
            ],
            [
             0.4444444444444444,
             "#bd3786"
            ],
            [
             0.5555555555555556,
             "#d8576b"
            ],
            [
             0.6666666666666666,
             "#ed7953"
            ],
            [
             0.7777777777777778,
             "#fb9f3a"
            ],
            [
             0.8888888888888888,
             "#fdca26"
            ],
            [
             1,
             "#f0f921"
            ]
           ]
          },
          "colorway": [
           "#636efa",
           "#EF553B",
           "#00cc96",
           "#ab63fa",
           "#FFA15A",
           "#19d3f3",
           "#FF6692",
           "#B6E880",
           "#FF97FF",
           "#FECB52"
          ],
          "font": {
           "color": "#2a3f5f"
          },
          "geo": {
           "bgcolor": "white",
           "lakecolor": "white",
           "landcolor": "#E5ECF6",
           "showlakes": true,
           "showland": true,
           "subunitcolor": "white"
          },
          "hoverlabel": {
           "align": "left"
          },
          "hovermode": "closest",
          "mapbox": {
           "style": "light"
          },
          "paper_bgcolor": "white",
          "plot_bgcolor": "#E5ECF6",
          "polar": {
           "angularaxis": {
            "gridcolor": "white",
            "linecolor": "white",
            "ticks": ""
           },
           "bgcolor": "#E5ECF6",
           "radialaxis": {
            "gridcolor": "white",
            "linecolor": "white",
            "ticks": ""
           }
          },
          "scene": {
           "xaxis": {
            "backgroundcolor": "#E5ECF6",
            "gridcolor": "white",
            "gridwidth": 2,
            "linecolor": "white",
            "showbackground": true,
            "ticks": "",
            "zerolinecolor": "white"
           },
           "yaxis": {
            "backgroundcolor": "#E5ECF6",
            "gridcolor": "white",
            "gridwidth": 2,
            "linecolor": "white",
            "showbackground": true,
            "ticks": "",
            "zerolinecolor": "white"
           },
           "zaxis": {
            "backgroundcolor": "#E5ECF6",
            "gridcolor": "white",
            "gridwidth": 2,
            "linecolor": "white",
            "showbackground": true,
            "ticks": "",
            "zerolinecolor": "white"
           }
          },
          "shapedefaults": {
           "line": {
            "color": "#2a3f5f"
           }
          },
          "ternary": {
           "aaxis": {
            "gridcolor": "white",
            "linecolor": "white",
            "ticks": ""
           },
           "baxis": {
            "gridcolor": "white",
            "linecolor": "white",
            "ticks": ""
           },
           "bgcolor": "#E5ECF6",
           "caxis": {
            "gridcolor": "white",
            "linecolor": "white",
            "ticks": ""
           }
          },
          "title": {
           "x": 0.05
          },
          "xaxis": {
           "automargin": true,
           "gridcolor": "white",
           "linecolor": "white",
           "ticks": "",
           "title": {
            "standoff": 15
           },
           "zerolinecolor": "white",
           "zerolinewidth": 2
          },
          "yaxis": {
           "automargin": true,
           "gridcolor": "white",
           "linecolor": "white",
           "ticks": "",
           "title": {
            "standoff": 15
           },
           "zerolinecolor": "white",
           "zerolinewidth": 2
          }
         }
        },
        "xaxis": {
         "anchor": "y",
         "domain": [
          0,
          1
         ],
         "title": {
          "text": "SalePrice"
         }
        },
        "yaxis": {
         "anchor": "x",
         "domain": [
          0,
          1
         ],
         "title": {
          "text": "count"
         }
        }
       }
      }
     },
     "metadata": {},
     "output_type": "display_data"
    }
   ],
   "source": [
    "fig = px.histogram(df, x='SalePrice')\n",
    "fig"
   ]
  },
  {
   "cell_type": "markdown",
   "id": "1ded84c4",
   "metadata": {},
   "source": [
    "Aykırı veriler fazla. Hedef değişkeninimiz olan \"SalePrice\" alanı normal dağılıma yakındır."
   ]
  },
  {
   "cell_type": "markdown",
   "id": "0e47c0c9",
   "metadata": {},
   "source": [
    "Hedef değişkenimiz olan \"Sale Price\" ile korelasyonu yüksek korelasyonu olan alanları kullanacağız."
   ]
  },
  {
   "cell_type": "code",
   "execution_count": 10,
   "id": "f3305bb8",
   "metadata": {},
   "outputs": [
    {
     "data": {
      "image/png": "[encoded data removed]",
      "text/plain": [
       "<Figure size 1008x720 with 2 Axes>"
      ]
     },
     "metadata": {
      "needs_background": "light"
     },
     "output_type": "display_data"
    }
   ],
   "source": [
    "corr = df.corr()\n",
    "g = sns.heatmap(corr,  vmax=.3, center=0,\n",
    "            square=True, linewidths=.5, cbar_kws={\"shrink\": .5},fmt='.2f', cmap='coolwarm')\n",
    "sns.despine()\n",
    "g.figure.set_size_inches(14,10)\n",
    "    \n",
    "plt.show()"
   ]
  },
  {
   "cell_type": "markdown",
   "id": "60dda900",
   "metadata": {},
   "source": [
    "Bu ısı haritası \"SalePrice\" ile korelasyonu ifade eder. 0'dan 0.3'e doğru pozitif korelasyon artarken, 0'dan neredeyse -0.5' kadar negatif korelasyon artar. Isı haritası ayrıca aykırı değerleri de belirlemeye yardımcı olur. SalePrice ile yüksek korelasyonu olmayan özellikler (features) silinecek/tablodan düşürülecektir (drop).\n",
    "\n",
    "Aşağıdaki özellikler silinecektir:\n",
    "\n",
    "\"Id\", \"MSSubClass\", \"MSZoning\", \"Street\", \"LandContour\", \"Utilities\", \"LandSlope\", \"Condition1\", \"Condition2\", \"BldgType\", \"OverallCond\", \"RoofStyle\",\"RoofMatl\", \"Exterior1st\", \"Exterior2nd\",\"MasVnrType\", \"ExterCond\", \"Foundation\", \"BsmtCond\", \"BsmtExposure\", \"BsmtFinType1\",\"BsmtFinType2\", \"BsmtFinSF2\", \"BsmtUnfSF\", \"Heating\", \"Electrical\", \"LowQualFinSF\", \"BsmtFullBath\", \"BsmtHalfBath\", \"HalfBath\", \"SaleCondition\", \"SaleType\", \"YrSold\", \"MoSold\", \"MiscVal\", \"MiscFeature\", \"Fence\", \"PoolQC\", \"PoolArea\", \"ScreenPorch\", \"3SsnPorch\", \"EnclosedPorch\", \"OpenPorchSF\", \"WoodDeckSF\", \"PavedDrive\", \"GarageCond\", \"GarageQual\", \"GarageType\", \"FireplaceQu\", \"Functional\", \"KitchenAbvGr\", \"BedroomAbvGr\""
   ]
  },
  {
   "cell_type": "code",
   "execution_count": 11,
   "id": "6b3c20ff",
   "metadata": {},
   "outputs": [
    {
     "data": {
      "text/html": [
       "<div>\n",
       "<style scoped>\n",
       "    .dataframe tbody tr th:only-of-type {\n",
       "        vertical-align: middle;\n",
       "    }\n",
       "\n",
       "    .dataframe tbody tr th {\n",
       "        vertical-align: top;\n",
       "    }\n",
       "\n",
       "    .dataframe thead th {\n",
       "        text-align: right;\n",
       "    }\n",
       "</style>\n",
       "<table border=\"1\" class=\"dataframe\">\n",
       "  <thead>\n",
       "    <tr style=\"text-align: right;\">\n",
       "      <th></th>\n",
       "      <th>LotFrontage</th>\n",
       "      <th>LotArea</th>\n",
       "      <th>Alley</th>\n",
       "      <th>LotShape</th>\n",
       "      <th>LotConfig</th>\n",
       "      <th>Neighborhood</th>\n",
       "      <th>HouseStyle</th>\n",
       "      <th>OverallQual</th>\n",
       "      <th>YearBuilt</th>\n",
       "      <th>YearRemodAdd</th>\n",
       "      <th>...</th>\n",
       "      <th>GrLivArea</th>\n",
       "      <th>FullBath</th>\n",
       "      <th>KitchenQual</th>\n",
       "      <th>TotRmsAbvGrd</th>\n",
       "      <th>Fireplaces</th>\n",
       "      <th>GarageYrBlt</th>\n",
       "      <th>GarageFinish</th>\n",
       "      <th>GarageCars</th>\n",
       "      <th>GarageArea</th>\n",
       "      <th>SalePrice</th>\n",
       "    </tr>\n",
       "  </thead>\n",
       "  <tbody>\n",
       "    <tr>\n",
       "      <th>0</th>\n",
       "      <td>65.0</td>\n",
       "      <td>8450</td>\n",
       "      <td>NaN</td>\n",
       "      <td>Reg</td>\n",
       "      <td>Inside</td>\n",
       "      <td>CollgCr</td>\n",
       "      <td>2Story</td>\n",
       "      <td>7</td>\n",
       "      <td>2003</td>\n",
       "      <td>2003</td>\n",
       "      <td>...</td>\n",
       "      <td>1710</td>\n",
       "      <td>2</td>\n",
       "      <td>Gd</td>\n",
       "      <td>8</td>\n",
       "      <td>0</td>\n",
       "      <td>2003.0</td>\n",
       "      <td>RFn</td>\n",
       "      <td>2</td>\n",
       "      <td>548</td>\n",
       "      <td>208500</td>\n",
       "    </tr>\n",
       "    <tr>\n",
       "      <th>1</th>\n",
       "      <td>80.0</td>\n",
       "      <td>9600</td>\n",
       "      <td>NaN</td>\n",
       "      <td>Reg</td>\n",
       "      <td>FR2</td>\n",
       "      <td>Veenker</td>\n",
       "      <td>1Story</td>\n",
       "      <td>6</td>\n",
       "      <td>1976</td>\n",
       "      <td>1976</td>\n",
       "      <td>...</td>\n",
       "      <td>1262</td>\n",
       "      <td>2</td>\n",
       "      <td>TA</td>\n",
       "      <td>6</td>\n",
       "      <td>1</td>\n",
       "      <td>1976.0</td>\n",
       "      <td>RFn</td>\n",
       "      <td>2</td>\n",
       "      <td>460</td>\n",
       "      <td>181500</td>\n",
       "    </tr>\n",
       "    <tr>\n",
       "      <th>2</th>\n",
       "      <td>68.0</td>\n",
       "      <td>11250</td>\n",
       "      <td>NaN</td>\n",
       "      <td>IR1</td>\n",
       "      <td>Inside</td>\n",
       "      <td>CollgCr</td>\n",
       "      <td>2Story</td>\n",
       "      <td>7</td>\n",
       "      <td>2001</td>\n",
       "      <td>2002</td>\n",
       "      <td>...</td>\n",
       "      <td>1786</td>\n",
       "      <td>2</td>\n",
       "      <td>Gd</td>\n",
       "      <td>6</td>\n",
       "      <td>1</td>\n",
       "      <td>2001.0</td>\n",
       "      <td>RFn</td>\n",
       "      <td>2</td>\n",
       "      <td>608</td>\n",
       "      <td>223500</td>\n",
       "    </tr>\n",
       "    <tr>\n",
       "      <th>3</th>\n",
       "      <td>60.0</td>\n",
       "      <td>9550</td>\n",
       "      <td>NaN</td>\n",
       "      <td>IR1</td>\n",
       "      <td>Corner</td>\n",
       "      <td>Crawfor</td>\n",
       "      <td>2Story</td>\n",
       "      <td>7</td>\n",
       "      <td>1915</td>\n",
       "      <td>1970</td>\n",
       "      <td>...</td>\n",
       "      <td>1717</td>\n",
       "      <td>1</td>\n",
       "      <td>Gd</td>\n",
       "      <td>7</td>\n",
       "      <td>1</td>\n",
       "      <td>1998.0</td>\n",
       "      <td>Unf</td>\n",
       "      <td>3</td>\n",
       "      <td>642</td>\n",
       "      <td>140000</td>\n",
       "    </tr>\n",
       "    <tr>\n",
       "      <th>4</th>\n",
       "      <td>84.0</td>\n",
       "      <td>14260</td>\n",
       "      <td>NaN</td>\n",
       "      <td>IR1</td>\n",
       "      <td>FR2</td>\n",
       "      <td>NoRidge</td>\n",
       "      <td>2Story</td>\n",
       "      <td>8</td>\n",
       "      <td>2000</td>\n",
       "      <td>2000</td>\n",
       "      <td>...</td>\n",
       "      <td>2198</td>\n",
       "      <td>2</td>\n",
       "      <td>Gd</td>\n",
       "      <td>9</td>\n",
       "      <td>1</td>\n",
       "      <td>2000.0</td>\n",
       "      <td>RFn</td>\n",
       "      <td>3</td>\n",
       "      <td>836</td>\n",
       "      <td>250000</td>\n",
       "    </tr>\n",
       "  </tbody>\n",
       "</table>\n",
       "<p>5 rows × 29 columns</p>\n",
       "</div>"
      ],
      "text/plain": [
       "   LotFrontage  LotArea Alley LotShape LotConfig Neighborhood HouseStyle  \\\n",
       "0         65.0     8450   NaN      Reg    Inside      CollgCr     2Story   \n",
       "1         80.0     9600   NaN      Reg       FR2      Veenker     1Story   \n",
       "2         68.0    11250   NaN      IR1    Inside      CollgCr     2Story   \n",
       "3         60.0     9550   NaN      IR1    Corner      Crawfor     2Story   \n",
       "4         84.0    14260   NaN      IR1       FR2      NoRidge     2Story   \n",
       "\n",
       "   OverallQual  YearBuilt  YearRemodAdd  ...  GrLivArea FullBath KitchenQual  \\\n",
       "0            7       2003          2003  ...       1710        2          Gd   \n",
       "1            6       1976          1976  ...       1262        2          TA   \n",
       "2            7       2001          2002  ...       1786        2          Gd   \n",
       "3            7       1915          1970  ...       1717        1          Gd   \n",
       "4            8       2000          2000  ...       2198        2          Gd   \n",
       "\n",
       "   TotRmsAbvGrd  Fireplaces GarageYrBlt GarageFinish  GarageCars  GarageArea  \\\n",
       "0             8           0      2003.0          RFn           2         548   \n",
       "1             6           1      1976.0          RFn           2         460   \n",
       "2             6           1      2001.0          RFn           2         608   \n",
       "3             7           1      1998.0          Unf           3         642   \n",
       "4             9           1      2000.0          RFn           3         836   \n",
       "\n",
       "   SalePrice  \n",
       "0     208500  \n",
       "1     181500  \n",
       "2     223500  \n",
       "3     140000  \n",
       "4     250000  \n",
       "\n",
       "[5 rows x 29 columns]"
      ]
     },
     "execution_count": 11,
     "metadata": {},
     "output_type": "execute_result"
    }
   ],
   "source": [
    "dropColumns = [\"Id\", \"MSSubClass\", \"MSZoning\", \"Street\", \"LandContour\", \"Utilities\", \"LandSlope\", \"Condition1\", \"Condition2\", \"BldgType\", \"OverallCond\", \"RoofStyle\", \n",
    "               \"RoofMatl\", \"Exterior1st\", \"Exterior2nd\",\"MasVnrType\", \"ExterCond\", \"Foundation\", \"BsmtCond\", \"BsmtExposure\", \"BsmtFinType1\",\n",
    "              \"BsmtFinType2\", \"BsmtFinSF2\", \"BsmtUnfSF\", \"Heating\", \"Electrical\", \"LowQualFinSF\", \"BsmtFullBath\", \"BsmtHalfBath\", \"HalfBath\"] + [\"SaleCondition\", \"SaleType\", \"YrSold\", \"MoSold\", \"MiscVal\", \"MiscFeature\", \"Fence\", \"PoolQC\", \"PoolArea\", \"ScreenPorch\", \"3SsnPorch\", \"EnclosedPorch\", \"OpenPorchSF\", \"WoodDeckSF\", \"PavedDrive\", \"GarageCond\", \"GarageQual\", \"GarageType\", \"FireplaceQu\", \"Functional\", \"KitchenAbvGr\", \"BedroomAbvGr\"]\n",
    "\n",
    "droppedDf = df.drop(columns=dropColumns, axis=1)\n",
    "droppedDf.head()"
   ]
  },
  {
   "cell_type": "markdown",
   "id": "39704191",
   "metadata": {},
   "source": [
    "##### Kategorik ve nümerik alanları görselleştirmek için kolonlar kategorik ve nümerik olarak ayrılır."
   ]
  },
  {
   "cell_type": "code",
   "execution_count": 12,
   "id": "7019ba04",
   "metadata": {},
   "outputs": [],
   "source": [
    "col_list=droppedDf.columns.tolist()\n",
    "\n",
    "def splitCategoricalAndNumericalData(col_list: list):\n",
    "    cat_cols=[]\n",
    "    num_cols=[]\n",
    "    for i in col_list:\n",
    "        if df[i].dtype == \"object\":\n",
    "            cat_cols.append(i)\n",
    "        elif df[i].dtype == \"int64\" or df[i].dtype == \"float64\":\n",
    "            num_cols.append(i)\n",
    "    return cat_cols, num_cols\n",
    "\n",
    "cat_cols, num_cols = splitCategoricalAndNumericalData(col_list)\n"
   ]
  },
  {
   "cell_type": "markdown",
   "id": "f7949b04",
   "metadata": {},
   "source": [
    "##### Nümerik alanların histogram ile gösterimi"
   ]
  },
  {
   "cell_type": "code",
   "execution_count": 15,
   "id": "bb863b28",
   "metadata": {},
   "outputs": [
    {
     "data": {
      "image/png": "[encoded data removed]",
      "text/plain": [
       "<Figure size 1800x6480 with 18 Axes>"
      ]
     },
     "metadata": {
      "needs_background": "light"
     },
     "output_type": "display_data"
    }
   ],
   "source": [
    "rowNumberOfPlot = len(num_cols)//2\n",
    "\n",
    "def multiplePlotForNumCols(row, col, df, columns):\n",
    "    fig, axs = plt.subplots(row, col,figsize=(25,row*10))\n",
    "    for i in range(col):\n",
    "        for j in range(row):\n",
    "            featureName = columns[i*row + j]\n",
    "            df_i = df[featureName]\n",
    "            axs[j, i].hist(df_i,bins=100,color=\"orange\")\n",
    "            axs[j, i].set_title(\"Frequency - {}\".format(featureName))\n",
    "            axs[j, i].set(xlabel=featureName, ylabel=\"Frequency\")\n",
    "\n",
    "multiplePlotForNumCols(rowNumberOfPlot,2,df,num_cols)"
   ]
  },
  {
   "cell_type": "markdown",
   "id": "1918a63d",
   "metadata": {},
   "source": [
    "##### Kategorik kolonların bar plot ile gösterimi"
   ]
  },
  {
   "cell_type": "code",
   "execution_count": 17,
   "id": "33d4df50",
   "metadata": {},
   "outputs": [],
   "source": [
    "def multiplePlotForCatCols(row, col, df, columns):\n",
    "    fig,axs = plt.subplots(row, col,figsize=(25,row*10))\n",
    "    for i in range(col):\n",
    "        for j in range(row):\n",
    "            featureName = columns[i*row + j]\n",
    "            df_i = df[featureName]\n",
    "            df_i_count=df_i.value_counts()\n",
    "            df_i_count=df_i_count[:5]\n",
    "            axs[j, i].bar(df_i_count.index,df_i_count,color=\"orange\")\n",
    "            axs[j, i].set_title(\"Frequency - {}\".format(featureName))\n",
    "            axs[j, i].set(xlabel=featureName, ylabel=\"Frequency\")\n"
   ]
  },
  {
   "cell_type": "code",
   "execution_count": 18,
   "id": "9a74f9cc",
   "metadata": {},
   "outputs": [
    {
     "data": {
      "image/png": "[encoded data removed]",
      "text/plain": [
       "<Figure size 1800x3600 with 10 Axes>"
      ]
     },
     "metadata": {
      "needs_background": "light"
     },
     "output_type": "display_data"
    }
   ],
   "source": [
    "rowNumberOfPlot = len(cat_cols)//2\n",
    "\n",
    "multiplePlotForCatCols(rowNumberOfPlot,2,df,cat_cols)"
   ]
  },
  {
   "cell_type": "code",
   "execution_count": null,
   "id": "f3e42d6b",
   "metadata": {},
   "outputs": [
    {
     "data": {
      "text/plain": [
       "Alley           1369\n",
       "LotFrontage      259\n",
       "GarageFinish      81\n",
       "GarageYrBlt       81\n",
       "BsmtQual          37\n",
       "MasVnrArea         8\n",
       "CentralAir         0\n",
       "GarageArea         0\n",
       "GarageCars         0\n",
       "Fireplaces         0\n",
       "TotRmsAbvGrd       0\n",
       "KitchenQual        0\n",
       "FullBath           0\n",
       "GrLivArea          0\n",
       "2ndFlrSF           0\n",
       "1stFlrSF           0\n",
       "TotalBsmtSF        0\n",
       "HeatingQC          0\n",
       "LotArea            0\n",
       "BsmtFinSF1         0\n",
       "ExterQual          0\n",
       "YearRemodAdd       0\n",
       "YearBuilt          0\n",
       "OverallQual        0\n",
       "HouseStyle         0\n",
       "Neighborhood       0\n",
       "LotConfig          0\n",
       "LotShape           0\n",
       "SalePrice          0\n",
       "dtype: int64"
      ]
     },
     "execution_count": 76,
     "metadata": {},
     "output_type": "execute_result"
    }
   ],
   "source": [
    "droppedDf.isnull().sum().sort_values(ascending=False).head(10)"
   ]
  },
  {
   "cell_type": "markdown",
   "id": "9f707985",
   "metadata": {},
   "source": [
    "Grafiklere bakılarak boş veriler (missing values) doldurulacak."
   ]
  },
  {
   "cell_type": "markdown",
   "id": "973e39ff",
   "metadata": {},
   "source": [
    "#### Eksik değerleri doldurma"
   ]
  },
  {
   "cell_type": "markdown",
   "id": "62e5b681",
   "metadata": {},
   "source": [
    "\"Alley\" feature 1369 adet missing value içermektedir. Bu değerler, dökümantasyonda söylendiği gibi \"NO\" adını verdiğimiz other class'a atanacaktır. "
   ]
  },
  {
   "cell_type": "code",
   "execution_count": null,
   "id": "8060acd0",
   "metadata": {},
   "outputs": [
    {
     "data": {
      "text/plain": [
       "0"
      ]
     },
     "execution_count": 77,
     "metadata": {},
     "output_type": "execute_result"
    }
   ],
   "source": [
    "droppedDf[\"Alley\"].fillna(\"NO\", inplace=True)\n",
    "droppedDf[\"Alley\"].isna().sum()"
   ]
  },
  {
   "cell_type": "markdown",
   "id": "e871c145",
   "metadata": {},
   "source": [
    "\"LotFrontage\" feature 259 adet missing value içermektedir. Bu değerler, grafiğe göre değişkenin ortalamasıyla doldurulacaktır."
   ]
  },
  {
   "cell_type": "code",
   "execution_count": null,
   "id": "ba955b92",
   "metadata": {},
   "outputs": [
    {
     "data": {
      "text/plain": [
       "0"
      ]
     },
     "execution_count": 78,
     "metadata": {},
     "output_type": "execute_result"
    }
   ],
   "source": [
    "droppedDf[\"LotFrontage\"].fillna(df.LotFrontage.mean(), inplace=True)\n",
    "droppedDf[\"LotFrontage\"].isna().sum()"
   ]
  },
  {
   "cell_type": "markdown",
   "id": "5dc9da90",
   "metadata": {},
   "source": [
    "\"GarageFinish\" feature 81 adet missing value içermektedir. Bu değerler, dökümantasyonda söylendiği gibi \"NO\" adını verdiğimiz other class'a atanacaktır. "
   ]
  },
  {
   "cell_type": "code",
   "execution_count": null,
   "id": "067abe22",
   "metadata": {},
   "outputs": [
    {
     "data": {
      "text/plain": [
       "0"
      ]
     },
     "execution_count": 79,
     "metadata": {},
     "output_type": "execute_result"
    }
   ],
   "source": [
    "droppedDf[\"GarageFinish\"].fillna(\"NO\", inplace=True)\n",
    "droppedDf[\"GarageFinish\"].isna().sum()"
   ]
  },
  {
   "cell_type": "markdown",
   "id": "e87ee3b7",
   "metadata": {},
   "source": [
    "\"GarageYrBlt\" feature 81 adet missing value içermektedir. Bu değerler, grafiğe göre değişkenin ortalamasıyla doldurulacaktır."
   ]
  },
  {
   "cell_type": "code",
   "execution_count": null,
   "id": "a2a7115a",
   "metadata": {},
   "outputs": [
    {
     "data": {
      "text/plain": [
       "0"
      ]
     },
     "execution_count": 80,
     "metadata": {},
     "output_type": "execute_result"
    }
   ],
   "source": [
    "droppedDf[\"GarageYrBlt\"].fillna(df.GarageYrBlt.mean(), inplace=True)\n",
    "droppedDf[\"GarageYrBlt\"].isna().sum()"
   ]
  },
  {
   "cell_type": "markdown",
   "id": "6d98a487",
   "metadata": {},
   "source": [
    "\"BsmtQual\" feature 37 adet missing value içermektedir. Bu değerler, dökümantasyonda söylendiği gibi \"NO\" adını verdiğimiz other class'a atanacaktır. "
   ]
  },
  {
   "cell_type": "code",
   "execution_count": null,
   "id": "4e48418b",
   "metadata": {},
   "outputs": [
    {
     "data": {
      "text/plain": [
       "0"
      ]
     },
     "execution_count": 81,
     "metadata": {},
     "output_type": "execute_result"
    }
   ],
   "source": [
    "droppedDf[\"BsmtQual\"].fillna(\"NO\", inplace=True)\n",
    "droppedDf[\"BsmtQual\"].isna().sum()"
   ]
  },
  {
   "cell_type": "markdown",
   "id": "dc176813",
   "metadata": {},
   "source": [
    "\"MasVnrArea\" feature 8 adet missing value içermektedir. Bu değerler, missing value değeri az olduğundan en çok tekrarlanan 0 değeri ile doldurulacaktır. "
   ]
  },
  {
   "cell_type": "code",
   "execution_count": null,
   "id": "971ec65a",
   "metadata": {},
   "outputs": [
    {
     "data": {
      "text/plain": [
       "0"
      ]
     },
     "execution_count": 82,
     "metadata": {},
     "output_type": "execute_result"
    }
   ],
   "source": [
    "droppedDf[\"MasVnrArea\"].fillna(0, inplace=True)\n",
    "droppedDf[\"MasVnrArea\"].isna().sum()"
   ]
  },
  {
   "cell_type": "markdown",
   "id": "b0fcd766",
   "metadata": {},
   "source": [
    "\"MasVnrAreaCatg\" grafiği incelendiğinde 3 ayrı gruba ayrılması uygun görülmüştür."
   ]
  },
  {
   "cell_type": "code",
   "execution_count": null,
   "id": "1a5b9afb",
   "metadata": {},
   "outputs": [
    {
     "data": {
      "text/plain": [
       "0"
      ]
     },
     "execution_count": 83,
     "metadata": {},
     "output_type": "execute_result"
    }
   ],
   "source": [
    "droppedDf['MasVnrAreaCatg'] = np.where(droppedDf.MasVnrArea>1000,'BIG',\n",
    "                                      np.where(droppedDf.MasVnrArea>500,'MEDIUM',\n",
    "                                              np.where(droppedDf.MasVnrArea>0,'SMALL','NO')))\n",
    "droppedDf['MasVnrAreaCatg'].isna().sum()"
   ]
  },
  {
   "cell_type": "markdown",
   "id": "b804176a",
   "metadata": {},
   "source": [
    "Doldurulan değerler kontrol edilir."
   ]
  },
  {
   "cell_type": "code",
   "execution_count": null,
   "id": "b1dded6b",
   "metadata": {},
   "outputs": [
    {
     "name": "stdout",
     "output_type": "stream",
     "text": [
      "<class 'pandas.core.frame.DataFrame'>\n",
      "RangeIndex: 1460 entries, 0 to 1459\n",
      "Data columns (total 30 columns):\n",
      " #   Column          Non-Null Count  Dtype  \n",
      "---  ------          --------------  -----  \n",
      " 0   LotFrontage     1460 non-null   float64\n",
      " 1   LotArea         1460 non-null   int64  \n",
      " 2   Alley           1460 non-null   object \n",
      " 3   LotShape        1460 non-null   object \n",
      " 4   LotConfig       1460 non-null   object \n",
      " 5   Neighborhood    1460 non-null   object \n",
      " 6   HouseStyle      1460 non-null   object \n",
      " 7   OverallQual     1460 non-null   int64  \n",
      " 8   YearBuilt       1460 non-null   int64  \n",
      " 9   YearRemodAdd    1460 non-null   int64  \n",
      " 10  MasVnrArea      1460 non-null   float64\n",
      " 11  ExterQual       1460 non-null   object \n",
      " 12  BsmtQual        1460 non-null   object \n",
      " 13  BsmtFinSF1      1460 non-null   int64  \n",
      " 14  TotalBsmtSF     1460 non-null   int64  \n",
      " 15  HeatingQC       1460 non-null   object \n",
      " 16  CentralAir      1460 non-null   object \n",
      " 17  1stFlrSF        1460 non-null   int64  \n",
      " 18  2ndFlrSF        1460 non-null   int64  \n",
      " 19  GrLivArea       1460 non-null   int64  \n",
      " 20  FullBath        1460 non-null   int64  \n",
      " 21  KitchenQual     1460 non-null   object \n",
      " 22  TotRmsAbvGrd    1460 non-null   int64  \n",
      " 23  Fireplaces      1460 non-null   int64  \n",
      " 24  GarageYrBlt     1460 non-null   float64\n",
      " 25  GarageFinish    1460 non-null   object \n",
      " 26  GarageCars      1460 non-null   int64  \n",
      " 27  GarageArea      1460 non-null   int64  \n",
      " 28  SalePrice       1460 non-null   int64  \n",
      " 29  MasVnrAreaCatg  1460 non-null   object \n",
      "dtypes: float64(3), int64(15), object(12)\n",
      "memory usage: 342.3+ KB\n"
     ]
    }
   ],
   "source": [
    "droppedDf.info()"
   ]
  },
  {
   "cell_type": "markdown",
   "id": "d11adfe4",
   "metadata": {},
   "source": [
    "## Model oluşturma"
   ]
  },
  {
   "cell_type": "markdown",
   "id": "a478a96e",
   "metadata": {},
   "source": [
    "### Verilerin model için hazırlanması"
   ]
  },
  {
   "cell_type": "markdown",
   "id": "c326348e",
   "metadata": {},
   "source": [
    "Modelin giriş tensoru hazırlanmaktadır."
   ]
  },
  {
   "cell_type": "code",
   "execution_count": null,
   "id": "192bc6f1",
   "metadata": {},
   "outputs": [],
   "source": [
    "inputDf = droppedDf.drop(['SalePrice'],axis=1)\n",
    "inputDf = inputDf.iloc[[0]].copy()"
   ]
  },
  {
   "cell_type": "code",
   "execution_count": null,
   "id": "38346690",
   "metadata": {},
   "outputs": [],
   "source": [
    "for i in inputDf:\n",
    "    if inputDf[i].dtype == \"object\":\n",
    "        inputDf[i] = droppedDf[i].mode()[0]\n",
    "    elif inputDf[i].dtype == \"int64\" or inputDf[i].dtype == \"float64\":\n",
    "        inputDf[i] = droppedDf[i].mean()\n",
    "inputDf\n",
    "\n",
    "obj_feat = list(inputDf.loc[:, inputDf.dtypes == 'object'].columns.values)\n",
    "for feature in obj_feat:\n",
    "    inputDf[feature] = inputDf[feature].astype('category')"
   ]
  },
  {
   "cell_type": "markdown",
   "id": "bb088292",
   "metadata": {},
   "source": [
    "### Gerekli kütüphanelerin eklenmesi"
   ]
  },
  {
   "cell_type": "code",
   "execution_count": null,
   "id": "95f334f0",
   "metadata": {},
   "outputs": [],
   "source": [
    "import lightgbm as lgb\n",
    "import pandas as pd\n",
    "import numpy as np\n",
    "from sklearn.model_selection import train_test_split\n",
    "from sklearn import metrics"
   ]
  },
  {
   "cell_type": "code",
   "execution_count": null,
   "id": "295c78a3",
   "metadata": {},
   "outputs": [],
   "source": [
    "df = droppedDf.copy()"
   ]
  },
  {
   "cell_type": "markdown",
   "id": "56dbaa9e",
   "metadata": {},
   "source": [
    "LightGBM modeli için obje (object) türündeki veriler kategori (category) türüne çevrilir."
   ]
  },
  {
   "cell_type": "code",
   "execution_count": null,
   "id": "135bd005",
   "metadata": {},
   "outputs": [],
   "source": [
    "obj_feat = list(df.loc[:, df.dtypes == 'object'].columns.values)\n",
    "for feature in obj_feat:\n",
    "    df[feature] = df[feature].astype('category')"
   ]
  },
  {
   "cell_type": "code",
   "execution_count": null,
   "id": "89c3992a",
   "metadata": {},
   "outputs": [
    {
     "data": {
      "text/plain": [
       "Index(['LotFrontage', 'LotArea', 'Alley', 'LotShape', 'LotConfig',\n",
       "       'Neighborhood', 'HouseStyle', 'OverallQual', 'YearBuilt',\n",
       "       'YearRemodAdd', 'MasVnrArea', 'ExterQual', 'BsmtQual', 'BsmtFinSF1',\n",
       "       'TotalBsmtSF', 'HeatingQC', 'CentralAir', '1stFlrSF', '2ndFlrSF',\n",
       "       'GrLivArea', 'FullBath', 'KitchenQual', 'TotRmsAbvGrd', 'Fireplaces',\n",
       "       'GarageYrBlt', 'GarageFinish', 'GarageCars', 'GarageArea',\n",
       "       'MasVnrAreaCatg'],\n",
       "      dtype='object')"
      ]
     },
     "execution_count": 90,
     "metadata": {},
     "output_type": "execute_result"
    }
   ],
   "source": [
    "# To define the input and output feature\n",
    "x = df.drop(['SalePrice'],axis=1)\n",
    "y = df.SalePrice\n",
    "\n",
    "# train and test split\n",
    "x_train,x_test,y_train,y_test = train_test_split(x,y,test_size=0.30,random_state=1)\n",
    "x.iloc[0].index"
   ]
  },
  {
   "cell_type": "code",
   "execution_count": null,
   "id": "9be0b2c4",
   "metadata": {},
   "outputs": [
    {
     "name": "stdout",
     "output_type": "stream",
     "text": [
      "Train r2 = 0.97 \n",
      "Test r2 = 0.91\n",
      "Train msle = 0.01 \n",
      "Test msle = 0.02\n"
     ]
    }
   ],
   "source": [
    "model = lgb.LGBMRegressor(max_depth=5, \n",
    "                          n_estimators = 100, \n",
    "                          learning_rate = 0.2,\n",
    "                          min_child_samples = 30)\n",
    "model.fit(x_train, y_train)\n",
    "\n",
    "pred_y_train = model.predict(x_train)\n",
    "pred_y_test = model.predict(x_test)\n",
    "\n",
    "r2_train = metrics.r2_score(y_train, pred_y_train)\n",
    "r2_test = metrics.r2_score(y_test, pred_y_test)\n",
    "\n",
    "msle_train =metrics.mean_squared_log_error(y_train, pred_y_train)\n",
    "msle_test =metrics.mean_squared_log_error(y_test, pred_y_test)\n",
    "\n",
    "print(f\"Train r2 = {r2_train:.2f} \\nTest r2 = {r2_test:.2f}\")\n",
    "print(f\"Train msle = {msle_train:.2f} \\nTest msle = {msle_test:.2f}\")"
   ]
  },
  {
   "cell_type": "markdown",
   "id": "a4fb8de3",
   "metadata": {},
   "source": [
    "#### GridSearchCV kullanılarak modelin geliştirilmesi"
   ]
  },
  {
   "cell_type": "markdown",
   "id": "673f4df7",
   "metadata": {},
   "source": [
    "Yukarıda modelin hiperparametreleri sezgisel olarak seçilmiştir. Bu aşamada Grid Search Cross Validation uygulanarak optimum hiperparametre katsayıları seçilmiştir."
   ]
  },
  {
   "cell_type": "code",
   "execution_count": null,
   "id": "5f85fe05",
   "metadata": {},
   "outputs": [
    {
     "name": "stdout",
     "output_type": "stream",
     "text": [
      "Train r2 = 0.97 \n",
      "Test r2 = 0.91\n",
      "Train msle = 0.01 \n",
      "Test msle = 0.02\n"
     ]
    },
    {
     "data": {
      "text/plain": [
       "{'learning_rate': 0.2,\n",
       " 'max_depth': 3,\n",
       " 'min_child_samples': 10,\n",
       " 'n_estimators': 100}"
      ]
     },
     "execution_count": 92,
     "metadata": {},
     "output_type": "execute_result"
    }
   ],
   "source": [
    "from sklearn.model_selection import GridSearchCV\n",
    "\n",
    "params = [{\"max_depth\":[3, 5], \n",
    "            \"n_estimators\" : [50, 100], \n",
    "            \"learning_rate\" : [0.1, 0.2],\n",
    "            \"min_child_samples\" : [20, 10]}]\n",
    "\n",
    "gs_knn = GridSearchCV(model,\n",
    "                      param_grid=params,\n",
    "                      cv=5)\n",
    "\n",
    "gs_knn.fit(x_train, y_train)\n",
    "gs_knn.score(x_train, y_train)\n",
    "\n",
    "pred_y_train = model.predict(x_train)\n",
    "pred_y_test = model.predict(x_test)\n",
    "\n",
    "r2_train = metrics.r2_score(y_train, pred_y_train)\n",
    "r2_test = metrics.r2_score(y_test, pred_y_test)\n",
    "\n",
    "msle_train =metrics.mean_squared_log_error(y_train, pred_y_train)\n",
    "msle_test =metrics.mean_squared_log_error(y_test, pred_y_test)\n",
    "\n",
    "print(f\"Train r2 = {r2_train:.2f} \\nTest r2 = {r2_test:.2f}\")\n",
    "print(f\"Train msle = {msle_train:.2f} \\nTest msle = {msle_test:.2f}\")\n",
    "\n",
    "gs_knn.best_params_\n"
   ]
  },
  {
   "cell_type": "markdown",
   "id": "2316c963",
   "metadata": {},
   "source": [
    "Sonuçlar karşılaştırıldığında sezgisel ile GridSearchCV arasında benzer bir sonuç gözlemlenmiştir."
   ]
  },
  {
   "cell_type": "markdown",
   "id": "9c66d532",
   "metadata": {},
   "source": [
    "#### Değişkenlerin future importance değerlerinin belirlenmesi"
   ]
  },
  {
   "cell_type": "markdown",
   "id": "90cb66a2",
   "metadata": {},
   "source": [
    "Modeli etkileyen ilk 20 değer gözlemlenir. Bu değişkenler deployment aşamasında kullanılacaktır. "
   ]
  },
  {
   "cell_type": "code",
   "execution_count": null,
   "id": "fc3dd1a2",
   "metadata": {},
   "outputs": [
    {
     "data": {
      "image/png": "[encoded data removed]",
      "text/plain": [
       "<Figure size 648x360 with 1 Axes>"
      ]
     },
     "metadata": {
      "needs_background": "light"
     },
     "output_type": "display_data"
    }
   ],
   "source": [
    "#show top 20 feature importance\n",
    "import seaborn as sns\n",
    "feature_imp = pd.Series(model.feature_importances_,index = x_train.columns).sort_values(ascending=False)[:20]\n",
    "plt.figure(figsize=(9,5))\n",
    "sns.barplot(x=feature_imp,y=feature_imp.index)\n",
    "plt.xlabel(\"Feature Importance Scores\")\n",
    "plt.ylabel(\"Features\")\n",
    "plt.title(\"Feature Importance\")\n",
    "plt.show()"
   ]
  },
  {
   "cell_type": "markdown",
   "id": "983f2ab1",
   "metadata": {},
   "source": [
    "#### Modelin kaydedilmesi ve yüklenmesi"
   ]
  },
  {
   "cell_type": "markdown",
   "id": "8f45fe7f",
   "metadata": {},
   "source": [
    "Eğitilmiş model Pickle kütüphanesi ile kaydedilebilir ve yüklenebilir."
   ]
  },
  {
   "cell_type": "code",
   "execution_count": null,
   "id": "cd6c9562",
   "metadata": {},
   "outputs": [],
   "source": [
    "# save the model to disk\n",
    "import pickle\n",
    "\n",
    "filename = 'finalized_model.model'\n",
    "pickle.dump(model, open(filename, 'wb'))"
   ]
  },
  {
   "cell_type": "code",
   "execution_count": null,
   "id": "98590d05",
   "metadata": {},
   "outputs": [
    {
     "name": "stdout",
     "output_type": "stream",
     "text": [
      "0.9065596642357174\n",
      "[159120.15487566]\n"
     ]
    }
   ],
   "source": [
    "# Load the model from disk\n",
    "import pickle\n",
    "\n",
    "filename = 'finalized_model.model'\n",
    "\n",
    "loaded_model = pickle.load(open(filename, 'rb'))\n",
    "result = loaded_model.score(x_test, y_test)\n",
    "print(result)\n",
    "\n",
    "# predict\n",
    "print(loaded_model.predict(inputDf))\n"
   ]
  }
 ],
 "metadata": {
  "kernelspec": {
   "display_name": "Python 3.9.12 ('base')",
   "language": "python",
   "name": "python3"
  },
  "language_info": {
   "codemirror_mode": {
    "name": "ipython",
    "version": 3
   },
   "file_extension": ".py",
   "mimetype": "text/x-python",
   "name": "python",
   "nbconvert_exporter": "python",
   "pygments_lexer": "ipython3",
   "version": "3.9.12"
  },
  "vscode": {
   "interpreter": {
    "hash": "d7288e82646d3164eca24130947288f8779d11454649f2c02a5dfc42af7f324c"
   }
  }
 },
 "nbformat": 4,
 "nbformat_minor": 5
}
