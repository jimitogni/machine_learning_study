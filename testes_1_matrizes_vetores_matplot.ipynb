{
 "cells": [
  {
   "cell_type": "code",
   "execution_count": 36,
   "metadata": {},
   "outputs": [],
   "source": [
    "import numpy as np\n",
    "import random as rd\n",
    "import matplotlib.pyplot as plt\n",
    "%matplotlib inline"
   ]
  },
  {
   "cell_type": "code",
   "execution_count": 21,
   "metadata": {},
   "outputs": [],
   "source": [
    "a = np.arange(20).reshape(4, 5)"
   ]
  },
  {
   "cell_type": "code",
   "execution_count": 22,
   "metadata": {},
   "outputs": [
    {
     "data": {
      "text/plain": [
       "array([[ 0,  1,  2,  3,  4],\n",
       "       [ 5,  6,  7,  8,  9],\n",
       "       [10, 11, 12, 13, 14],\n",
       "       [15, 16, 17, 18, 19]])"
      ]
     },
     "execution_count": 22,
     "metadata": {},
     "output_type": "execute_result"
    }
   ],
   "source": [
    "a"
   ]
  },
  {
   "cell_type": "code",
   "execution_count": 24,
   "metadata": {},
   "outputs": [
    {
     "data": {
      "text/plain": [
       "(4, 5)"
      ]
     },
     "execution_count": 24,
     "metadata": {},
     "output_type": "execute_result"
    }
   ],
   "source": [
    "a.shape"
   ]
  },
  {
   "cell_type": "code",
   "execution_count": 26,
   "metadata": {},
   "outputs": [
    {
     "data": {
      "text/plain": [
       "'int64'"
      ]
     },
     "execution_count": 26,
     "metadata": {},
     "output_type": "execute_result"
    }
   ],
   "source": [
    "a.dtype.name"
   ]
  },
  {
   "cell_type": "code",
   "execution_count": 28,
   "metadata": {},
   "outputs": [
    {
     "data": {
      "text/plain": [
       "8"
      ]
     },
     "execution_count": 28,
     "metadata": {},
     "output_type": "execute_result"
    }
   ],
   "source": [
    "a.itemsize"
   ]
  },
  {
   "cell_type": "code",
   "execution_count": 29,
   "metadata": {},
   "outputs": [
    {
     "data": {
      "text/plain": [
       "numpy.ndarray"
      ]
     },
     "execution_count": 29,
     "metadata": {},
     "output_type": "execute_result"
    }
   ],
   "source": [
    "type(a)"
   ]
  },
  {
   "cell_type": "code",
   "execution_count": 31,
   "metadata": {},
   "outputs": [
    {
     "data": {
      "text/plain": [
       "array([7, 8, 5])"
      ]
     },
     "execution_count": 31,
     "metadata": {},
     "output_type": "execute_result"
    }
   ],
   "source": [
    "b = np.array([7, 8, 5])\n",
    "b"
   ]
  },
  {
   "cell_type": "code",
   "execution_count": 32,
   "metadata": {},
   "outputs": [
    {
     "data": {
      "text/plain": [
       "numpy.ndarray"
      ]
     },
     "execution_count": 32,
     "metadata": {},
     "output_type": "execute_result"
    }
   ],
   "source": [
    "type(b)"
   ]
  },
  {
   "cell_type": "code",
   "execution_count": 39,
   "metadata": {},
   "outputs": [
    {
     "data": {
      "text/plain": [
       "array([[  1.8,   2.6,   3.9],\n",
       "       [  5. ,   6. ,   9. ],\n",
       "       [164. , 652. ,  50. ]])"
      ]
     },
     "execution_count": 39,
     "metadata": {},
     "output_type": "execute_result"
    }
   ],
   "source": [
    "c = np.array([(1.8, 2.6, 3.9), (5,6,9), (rd.randint(0,999), rd.randint(0,999), rd.randint(0,999))])\n",
    "c"
   ]
  },
  {
   "cell_type": "code",
   "execution_count": 43,
   "metadata": {},
   "outputs": [
    {
     "data": {
      "text/plain": [
       "dtype('float64')"
      ]
     },
     "execution_count": 43,
     "metadata": {},
     "output_type": "execute_result"
    }
   ],
   "source": [
    "c.dtype"
   ]
  },
  {
   "cell_type": "code",
   "execution_count": 46,
   "metadata": {},
   "outputs": [
    {
     "data": {
      "text/plain": [
       "array([[0., 0., 0., 0., 0.],\n",
       "       [0., 0., 0., 0., 0.],\n",
       "       [0., 0., 0., 0., 0.],\n",
       "       [0., 0., 0., 0., 0.],\n",
       "       [0., 0., 0., 0., 0.]])"
      ]
     },
     "execution_count": 46,
     "metadata": {},
     "output_type": "execute_result"
    }
   ],
   "source": [
    "d = np.zeros((5, 5))\n",
    "d"
   ]
  },
  {
   "cell_type": "code",
   "execution_count": 49,
   "metadata": {},
   "outputs": [
    {
     "data": {
      "text/plain": [
       "array([[[0., 0., 0., 0., 0.],\n",
       "        [0., 0., 0., 0., 0.],\n",
       "        [0., 0., 0., 0., 0.],\n",
       "        [0., 0., 0., 0., 0.],\n",
       "        [0., 0., 0., 0., 0.]],\n",
       "\n",
       "       [[0., 0., 0., 0., 0.],\n",
       "        [0., 0., 0., 0., 0.],\n",
       "        [0., 0., 0., 0., 0.],\n",
       "        [0., 0., 0., 0., 0.],\n",
       "        [0., 0., 0., 0., 0.]]])"
      ]
     },
     "execution_count": 49,
     "metadata": {},
     "output_type": "execute_result"
    }
   ],
   "source": [
    "#criando dois arrays de 5x5 cada\n",
    "e = np.zeros((2, 5, 5))\n",
    "e"
   ]
  },
  {
   "cell_type": "code",
   "execution_count": 57,
   "metadata": {},
   "outputs": [],
   "source": [
    "#array com valores dentro de um range\n",
    "f = np.arange(0, 100, 1)"
   ]
  },
  {
   "cell_type": "code",
   "execution_count": 58,
   "metadata": {},
   "outputs": [
    {
     "data": {
      "text/plain": [
       "array([ 0,  1,  2,  3,  4,  5,  6,  7,  8,  9, 10, 11, 12, 13, 14, 15, 16,\n",
       "       17, 18, 19, 20, 21, 22, 23, 24, 25, 26, 27, 28, 29, 30, 31, 32, 33,\n",
       "       34, 35, 36, 37, 38, 39, 40, 41, 42, 43, 44, 45, 46, 47, 48, 49, 50,\n",
       "       51, 52, 53, 54, 55, 56, 57, 58, 59, 60, 61, 62, 63, 64, 65, 66, 67,\n",
       "       68, 69, 70, 71, 72, 73, 74, 75, 76, 77, 78, 79, 80, 81, 82, 83, 84,\n",
       "       85, 86, 87, 88, 89, 90, 91, 92, 93, 94, 95, 96, 97, 98, 99])"
      ]
     },
     "execution_count": 58,
     "metadata": {},
     "output_type": "execute_result"
    }
   ],
   "source": [
    "f"
   ]
  },
  {
   "cell_type": "code",
   "execution_count": 64,
   "metadata": {},
   "outputs": [
    {
     "data": {
      "text/plain": [
       "array([[ 0,  1,  2,  3,  4,  5,  6,  7,  8,  9, 10, 11, 12, 13, 14, 15,\n",
       "        16, 17, 18, 19, 20, 21, 22, 23, 24, 25, 26, 27, 28, 29, 30, 31,\n",
       "        32, 33, 34, 35, 36, 37, 38, 39, 40, 41, 42, 43, 44, 45, 46, 47,\n",
       "        48, 49, 50, 51, 52, 53, 54, 55, 56, 57, 58, 59, 60, 61, 62, 63,\n",
       "        64, 65, 66, 67, 68, 69, 70, 71, 72, 73, 74, 75, 76, 77, 78, 79,\n",
       "        80, 81, 82, 83, 84, 85, 86, 87, 88, 89, 90, 91, 92, 93, 94, 95,\n",
       "        96, 97, 98, 99]])"
      ]
     },
     "execution_count": 64,
     "metadata": {},
     "output_type": "execute_result"
    }
   ],
   "source": [
    "#usando reshape para mudar as dimenssoes do array\n",
    "f.reshape(1, 100) # 100 coluna com 1 linha"
   ]
  },
  {
   "cell_type": "code",
   "execution_count": 71,
   "metadata": {},
   "outputs": [
    {
     "data": {
      "text/plain": [
       "array([[ 0,  1,  2,  3,  4],\n",
       "       [ 5,  6,  7,  8,  9],\n",
       "       [10, 11, 12, 13, 14],\n",
       "       [15, 16, 17, 18, 19],\n",
       "       [20, 21, 22, 23, 24],\n",
       "       [25, 26, 27, 28, 29],\n",
       "       [30, 31, 32, 33, 34],\n",
       "       [35, 36, 37, 38, 39],\n",
       "       [40, 41, 42, 43, 44],\n",
       "       [45, 46, 47, 48, 49],\n",
       "       [50, 51, 52, 53, 54],\n",
       "       [55, 56, 57, 58, 59],\n",
       "       [60, 61, 62, 63, 64],\n",
       "       [65, 66, 67, 68, 69],\n",
       "       [70, 71, 72, 73, 74],\n",
       "       [75, 76, 77, 78, 79],\n",
       "       [80, 81, 82, 83, 84],\n",
       "       [85, 86, 87, 88, 89],\n",
       "       [90, 91, 92, 93, 94],\n",
       "       [95, 96, 97, 98, 99]])"
      ]
     },
     "execution_count": 71,
     "metadata": {},
     "output_type": "execute_result"
    }
   ],
   "source": [
    "f.reshape(20, 5) #100 linhas em 1 coluna"
   ]
  },
  {
   "cell_type": "code",
   "execution_count": 76,
   "metadata": {},
   "outputs": [],
   "source": [
    "#operacao entre os elementos dos vetores\n",
    "g = np.arange(100, 200, 1)"
   ]
  },
  {
   "cell_type": "code",
   "execution_count": 78,
   "metadata": {},
   "outputs": [
    {
     "data": {
      "text/plain": [
       "array([[100, 101, 102, 103, 104],\n",
       "       [105, 106, 107, 108, 109],\n",
       "       [110, 111, 112, 113, 114],\n",
       "       [115, 116, 117, 118, 119],\n",
       "       [120, 121, 122, 123, 124],\n",
       "       [125, 126, 127, 128, 129],\n",
       "       [130, 131, 132, 133, 134],\n",
       "       [135, 136, 137, 138, 139],\n",
       "       [140, 141, 142, 143, 144],\n",
       "       [145, 146, 147, 148, 149],\n",
       "       [150, 151, 152, 153, 154],\n",
       "       [155, 156, 157, 158, 159],\n",
       "       [160, 161, 162, 163, 164],\n",
       "       [165, 166, 167, 168, 169],\n",
       "       [170, 171, 172, 173, 174],\n",
       "       [175, 176, 177, 178, 179],\n",
       "       [180, 181, 182, 183, 184],\n",
       "       [185, 186, 187, 188, 189],\n",
       "       [190, 191, 192, 193, 194],\n",
       "       [195, 196, 197, 198, 199]])"
      ]
     },
     "execution_count": 78,
     "metadata": {},
     "output_type": "execute_result"
    }
   ],
   "source": [
    "g.reshape(20, 5)"
   ]
  },
  {
   "cell_type": "code",
   "execution_count": 273,
   "metadata": {},
   "outputs": [
    {
     "data": {
      "text/plain": [
       "array([100, 102, 104, 106, 108, 110, 112, 114, 116, 118, 120, 122, 124,\n",
       "       126, 128, 130, 132, 134, 136, 138, 140, 142, 144, 146, 148, 150,\n",
       "       152, 154, 156, 158, 160, 162, 164, 166, 168, 170, 172, 174, 176,\n",
       "       178, 180, 182, 184, 186, 188, 190, 192, 194, 196, 198, 200, 202,\n",
       "       204, 206, 208, 210, 212, 214, 216, 218, 220, 222, 224, 226, 228,\n",
       "       230, 232, 234, 236, 238, 240, 242, 244, 246, 248, 250, 252, 254,\n",
       "       256, 258, 260, 262, 264, 266, 268, 270, 272, 274, 276, 278, 280,\n",
       "       282, 284, 286, 288, 290, 292, 294, 296, 298])"
      ]
     },
     "execution_count": 273,
     "metadata": {},
     "output_type": "execute_result"
    }
   ],
   "source": [
    "soma = f + g\n",
    "soma"
   ]
  },
  {
   "cell_type": "code",
   "execution_count": 274,
   "metadata": {},
   "outputs": [
    {
     "data": {
      "text/plain": [
       "array([[100, 102, 104, 106, 108],\n",
       "       [110, 112, 114, 116, 118],\n",
       "       [120, 122, 124, 126, 128],\n",
       "       [130, 132, 134, 136, 138],\n",
       "       [140, 142, 144, 146, 148],\n",
       "       [150, 152, 154, 156, 158],\n",
       "       [160, 162, 164, 166, 168],\n",
       "       [170, 172, 174, 176, 178],\n",
       "       [180, 182, 184, 186, 188],\n",
       "       [190, 192, 194, 196, 198],\n",
       "       [200, 202, 204, 206, 208],\n",
       "       [210, 212, 214, 216, 218],\n",
       "       [220, 222, 224, 226, 228],\n",
       "       [230, 232, 234, 236, 238],\n",
       "       [240, 242, 244, 246, 248],\n",
       "       [250, 252, 254, 256, 258],\n",
       "       [260, 262, 264, 266, 268],\n",
       "       [270, 272, 274, 276, 278],\n",
       "       [280, 282, 284, 286, 288],\n",
       "       [290, 292, 294, 296, 298]])"
      ]
     },
     "execution_count": 274,
     "metadata": {},
     "output_type": "execute_result"
    }
   ],
   "source": [
    "soma.reshape(20,5)"
   ]
  },
  {
   "cell_type": "code",
   "execution_count": 275,
   "metadata": {},
   "outputs": [
    {
     "data": {
      "text/plain": [
       "array([[100, 102, 104, 106],\n",
       "       [108, 110, 112, 114],\n",
       "       [116, 118, 120, 122],\n",
       "       [124, 126, 128, 130],\n",
       "       [132, 134, 136, 138],\n",
       "       [140, 142, 144, 146],\n",
       "       [148, 150, 152, 154],\n",
       "       [156, 158, 160, 162],\n",
       "       [164, 166, 168, 170],\n",
       "       [172, 174, 176, 178],\n",
       "       [180, 182, 184, 186],\n",
       "       [188, 190, 192, 194],\n",
       "       [196, 198, 200, 202],\n",
       "       [204, 206, 208, 210],\n",
       "       [212, 214, 216, 218],\n",
       "       [220, 222, 224, 226],\n",
       "       [228, 230, 232, 234],\n",
       "       [236, 238, 240, 242],\n",
       "       [244, 246, 248, 250],\n",
       "       [252, 254, 256, 258],\n",
       "       [260, 262, 264, 266],\n",
       "       [268, 270, 272, 274],\n",
       "       [276, 278, 280, 282],\n",
       "       [284, 286, 288, 290],\n",
       "       [292, 294, 296, 298]])"
      ]
     },
     "execution_count": 275,
     "metadata": {},
     "output_type": "execute_result"
    }
   ],
   "source": [
    "soma=soma.reshape(25,4) # faz ** para cada elemento\n",
    "soma"
   ]
  },
  {
   "cell_type": "code",
   "execution_count": 365,
   "metadata": {},
   "outputs": [
    {
     "data": {
      "text/plain": [
       "array([[ 10000000000000000,  11716593810022656,  13685690504052736,\n",
       "         15938480745308416],\n",
       "       [ 18509302102818816,  21435888100000000,  24759631762948096,\n",
       "         28525864220672256],\n",
       "       [ 32784148919812096,  37588592026706176,  42998169600000000,\n",
       "         49077072127303936],\n",
       "       [ 55895067029733376,  63527879748485376,  72057594037927936,\n",
       "         81573072100000000],\n",
       "       [ 92170395205042176, 103953325454500096, 117033789351264256,\n",
       "        131532383853732096]])"
      ]
     },
     "execution_count": 365,
     "metadata": {},
     "output_type": "execute_result"
    }
   ],
   "source": [
    "soma2 = soma**8\n",
    "soma2[:5]"
   ]
  },
  {
   "cell_type": "code",
   "execution_count": 277,
   "metadata": {},
   "outputs": [
    {
     "name": "stderr",
     "output_type": "stream",
     "text": [
      "/usr/lib/python3/dist-packages/ipykernel_launcher.py:1: RuntimeWarning: invalid value encountered in true_divide\n",
      "  \"\"\"Entry point for launching an IPython kernel.\n"
     ]
    }
   ],
   "source": [
    "soma2 = (soma2/soma2)+10"
   ]
  },
  {
   "cell_type": "code",
   "execution_count": 364,
   "metadata": {},
   "outputs": [
    {
     "data": {
      "text/plain": [
       "array([[11., 11., 11., 11.],\n",
       "       [11., 11., 11., 11.],\n",
       "       [11., 11., 11., 11.],\n",
       "       [11., 11., 11., 11.],\n",
       "       [11., 11., 11., 11.]])"
      ]
     },
     "execution_count": 364,
     "metadata": {},
     "output_type": "execute_result"
    }
   ],
   "source": [
    "soma2[:5]"
   ]
  },
  {
   "cell_type": "code",
   "execution_count": 363,
   "metadata": {},
   "outputs": [
    {
     "data": {
      "text/plain": [
       "array([[100, 102, 104, 106],\n",
       "       [108, 110, 112, 114],\n",
       "       [116, 118, 120, 122],\n",
       "       [124, 126, 128, 130],\n",
       "       [132, 134, 136, 138]])"
      ]
     },
     "execution_count": 363,
     "metadata": {},
     "output_type": "execute_result"
    }
   ],
   "source": [
    "soma[:5]"
   ]
  },
  {
   "cell_type": "code",
   "execution_count": 280,
   "metadata": {},
   "outputs": [
    {
     "data": {
      "text/plain": [
       "(25, 4)"
      ]
     },
     "execution_count": 280,
     "metadata": {},
     "output_type": "execute_result"
    }
   ],
   "source": [
    "soma.shape"
   ]
  },
  {
   "cell_type": "code",
   "execution_count": 281,
   "metadata": {},
   "outputs": [
    {
     "data": {
      "text/plain": [
       "(25, 4)"
      ]
     },
     "execution_count": 281,
     "metadata": {},
     "output_type": "execute_result"
    }
   ],
   "source": [
    "soma2.shape"
   ]
  },
  {
   "cell_type": "code",
   "execution_count": 282,
   "metadata": {},
   "outputs": [],
   "source": [
    "graph = soma*soma2"
   ]
  },
  {
   "cell_type": "code",
   "execution_count": 283,
   "metadata": {},
   "outputs": [],
   "source": [
    "graph = graph.reshape(50,2)"
   ]
  },
  {
   "cell_type": "code",
   "execution_count": 362,
   "metadata": {},
   "outputs": [
    {
     "data": {
      "text/plain": [
       "array([[ 0.43270214],\n",
       "       [ 7.5814753 ],\n",
       "       [ 7.7958376 ],\n",
       "       [11.72607439],\n",
       "       [ 3.15696432]])"
      ]
     },
     "execution_count": 362,
     "metadata": {},
     "output_type": "execute_result"
    }
   ],
   "source": [
    "graph[:5]"
   ]
  },
  {
   "cell_type": "code",
   "execution_count": 285,
   "metadata": {},
   "outputs": [
    {
     "data": {
      "image/png": "[encoded data removed]",
      "text/plain": [
       "<Figure size 432x288 with 1 Axes>"
      ]
     },
     "metadata": {
      "needs_background": "light"
     },
     "output_type": "display_data"
    }
   ],
   "source": [
    "plt.plot(graph)\n",
    "plt.show()"
   ]
  },
  {
   "cell_type": "code",
   "execution_count": 361,
   "metadata": {},
   "outputs": [],
   "source": [
    "#graph"
   ]
  },
  {
   "cell_type": "code",
   "execution_count": 299,
   "metadata": {},
   "outputs": [
    {
     "name": "stdout",
     "output_type": "stream",
     "text": [
      "i >  0\n",
      "v >  0\n",
      "valor antigo\n",
      "graph >  1100.0\n",
      "novo valor\n",
      "2116.0\n",
      "i >  1\n",
      "v >  1\n",
      "valor antigo\n",
      "graph >  1144.0\n",
      "novo valor\n",
      "2354.0\n",
      "i >  2\n",
      "v >  2\n",
      "valor antigo\n",
      "graph >  1188.0\n",
      "novo valor\n",
      "2598.0\n",
      "i >  3\n",
      "v >  3\n",
      "valor antigo\n",
      "graph >  1232.0\n",
      "novo valor\n",
      "2324.0\n",
      "i >  4\n",
      "v >  4\n",
      "valor antigo\n",
      "graph >  1276.0\n",
      "novo valor\n",
      "2318.0\n",
      "i >  5\n",
      "v >  5\n",
      "valor antigo\n",
      "graph >  1320.0\n",
      "novo valor\n",
      "2720.0\n",
      "i >  6\n",
      "v >  6\n",
      "valor antigo\n",
      "graph >  1364.0\n",
      "novo valor\n",
      "2713.0\n",
      "i >  7\n",
      "v >  7\n",
      "valor antigo\n",
      "graph >  1408.0\n",
      "novo valor\n",
      "2542.0\n",
      "i >  8\n",
      "v >  8\n",
      "valor antigo\n",
      "graph >  1452.0\n",
      "novo valor\n",
      "2768.0\n",
      "i >  9\n",
      "v >  9\n",
      "valor antigo\n",
      "graph >  1496.0\n",
      "novo valor\n",
      "2709.0\n",
      "i >  10\n",
      "v >  10\n",
      "valor antigo\n",
      "graph >  1540.0\n",
      "novo valor\n",
      "2836.0\n",
      "i >  11\n",
      "v >  11\n",
      "valor antigo\n",
      "graph >  1584.0\n",
      "novo valor\n",
      "2727.0\n",
      "i >  12\n",
      "v >  12\n",
      "valor antigo\n",
      "graph >  1628.0\n",
      "novo valor\n",
      "2667.0\n",
      "i >  13\n",
      "v >  13\n",
      "valor antigo\n",
      "graph >  1672.0\n",
      "novo valor\n",
      "2975.0\n",
      "i >  14\n",
      "v >  14\n",
      "valor antigo\n",
      "graph >  1716.0\n",
      "novo valor\n",
      "3099.0\n",
      "i >  15\n",
      "v >  15\n",
      "valor antigo\n",
      "graph >  1760.0\n",
      "novo valor\n",
      "3116.0\n",
      "i >  16\n",
      "v >  16\n",
      "valor antigo\n",
      "graph >  1804.0\n",
      "novo valor\n",
      "2847.0\n",
      "i >  17\n",
      "v >  17\n",
      "valor antigo\n",
      "graph >  1848.0\n",
      "novo valor\n",
      "3111.0\n",
      "i >  18\n",
      "v >  18\n",
      "valor antigo\n",
      "graph >  1892.0\n",
      "novo valor\n",
      "3223.0\n",
      "i >  19\n",
      "v >  19\n",
      "valor antigo\n",
      "graph >  1936.0\n",
      "novo valor\n",
      "3191.0\n",
      "i >  20\n",
      "v >  20\n",
      "valor antigo\n",
      "graph >  1980.0\n",
      "novo valor\n",
      "3369.0\n",
      "i >  21\n",
      "v >  21\n",
      "valor antigo\n",
      "graph >  2024.0\n",
      "novo valor\n",
      "3446.0\n",
      "i >  22\n",
      "v >  22\n",
      "valor antigo\n",
      "graph >  2068.0\n",
      "novo valor\n",
      "3267.0\n",
      "i >  23\n",
      "v >  23\n",
      "valor antigo\n",
      "graph >  2112.0\n",
      "novo valor\n",
      "3264.0\n",
      "i >  24\n",
      "v >  24\n",
      "valor antigo\n",
      "graph >  2156.0\n",
      "novo valor\n",
      "3371.0\n",
      "i >  25\n",
      "v >  25\n",
      "valor antigo\n",
      "graph >  2200.0\n",
      "novo valor\n",
      "3479.0\n",
      "i >  26\n",
      "v >  26\n",
      "valor antigo\n",
      "graph >  2244.0\n",
      "novo valor\n",
      "3686.0\n",
      "i >  27\n",
      "v >  27\n",
      "valor antigo\n",
      "graph >  2288.0\n",
      "novo valor\n",
      "3317.0\n",
      "i >  28\n",
      "v >  28\n",
      "valor antigo\n",
      "graph >  2332.0\n",
      "novo valor\n",
      "3429.0\n",
      "i >  29\n",
      "v >  29\n",
      "valor antigo\n",
      "graph >  2376.0\n",
      "novo valor\n",
      "3424.0\n",
      "i >  30\n",
      "v >  30\n",
      "valor antigo\n",
      "graph >  2420.0\n",
      "novo valor\n",
      "3645.0\n",
      "i >  31\n",
      "v >  31\n",
      "valor antigo\n",
      "graph >  2464.0\n",
      "novo valor\n",
      "3833.0\n",
      "i >  32\n",
      "v >  32\n",
      "valor antigo\n",
      "graph >  2508.0\n",
      "novo valor\n",
      "3943.0\n",
      "i >  33\n",
      "v >  33\n",
      "valor antigo\n",
      "graph >  2552.0\n",
      "novo valor\n",
      "3794.0\n",
      "i >  34\n",
      "v >  34\n",
      "valor antigo\n",
      "graph >  2596.0\n",
      "novo valor\n",
      "3913.0\n",
      "i >  35\n",
      "v >  35\n",
      "valor antigo\n",
      "graph >  2640.0\n",
      "novo valor\n",
      "3650.0\n",
      "i >  36\n",
      "v >  36\n",
      "valor antigo\n",
      "graph >  2684.0\n",
      "novo valor\n",
      "3684.0\n",
      "i >  37\n",
      "v >  37\n",
      "valor antigo\n",
      "graph >  2728.0\n",
      "novo valor\n",
      "3760.0\n",
      "i >  38\n",
      "v >  38\n",
      "valor antigo\n",
      "graph >  2772.0\n",
      "novo valor\n",
      "3827.0\n",
      "i >  39\n",
      "v >  39\n",
      "valor antigo\n",
      "graph >  nan\n",
      "novo valor\n",
      "4026.0\n",
      "i >  40\n",
      "v >  40\n",
      "valor antigo\n",
      "graph >  2860.0\n",
      "novo valor\n",
      "4085.0\n",
      "i >  41\n",
      "v >  41\n",
      "valor antigo\n",
      "graph >  2904.0\n",
      "novo valor\n",
      "3998.0\n",
      "i >  42\n",
      "v >  42\n",
      "valor antigo\n",
      "graph >  2948.0\n",
      "novo valor\n",
      "4137.0\n",
      "i >  43\n",
      "v >  43\n",
      "valor antigo\n",
      "graph >  2992.0\n",
      "novo valor\n",
      "4160.0\n",
      "i >  44\n",
      "v >  44\n",
      "valor antigo\n",
      "graph >  3036.0\n",
      "novo valor\n",
      "4395.0\n",
      "i >  45\n",
      "v >  45\n",
      "valor antigo\n",
      "graph >  3080.0\n",
      "novo valor\n",
      "4492.0\n",
      "i >  46\n",
      "v >  46\n",
      "valor antigo\n",
      "graph >  3124.0\n",
      "novo valor\n",
      "4312.0\n",
      "i >  47\n",
      "v >  47\n",
      "valor antigo\n",
      "graph >  3168.0\n",
      "novo valor\n",
      "4385.0\n",
      "i >  48\n",
      "v >  48\n",
      "valor antigo\n",
      "graph >  3212.0\n",
      "novo valor\n",
      "4349.0\n",
      "i >  49\n",
      "v >  49\n",
      "valor antigo\n",
      "graph >  3256.0\n",
      "novo valor\n",
      "4629.0\n"
     ]
    },
    {
     "data": {
      "text/plain": [
       "array([[1252., 2116.],\n",
       "       [1541., 2354.],\n",
       "       [1874., 2598.],\n",
       "       [1854., 2324.],\n",
       "       [1692., 2318.],\n",
       "       [1752., 2720.],\n",
       "       [1624., 2713.],\n",
       "       [1936., 2542.],\n",
       "       [2201., 2768.],\n",
       "       [1896., 2709.],\n",
       "       [2217., 2836.],\n",
       "       [2141., 2727.],\n",
       "       [2116., 2667.],\n",
       "       [2657., 2975.],\n",
       "       [2278., 3099.],\n",
       "       [2098., 3116.],\n",
       "       [2798., 2847.],\n",
       "       [2009., 3111.],\n",
       "       [2347., 3223.],\n",
       "       [2500., 3191.],\n",
       "       [2391., 3369.],\n",
       "       [2765., 3446.],\n",
       "       [2789., 3267.],\n",
       "       [2693., 3264.],\n",
       "       [2736., 3371.],\n",
       "       [2761., 3479.],\n",
       "       [2935., 3686.],\n",
       "       [2898., 3317.],\n",
       "       [2894., 3429.],\n",
       "       [2819., 3424.],\n",
       "       [2622., 3645.],\n",
       "       [2633., 3833.],\n",
       "       [3173., 3943.],\n",
       "       [3486., 3794.],\n",
       "       [2701., 3913.],\n",
       "       [3320., 3650.],\n",
       "       [3540., 3684.],\n",
       "       [3275., 3760.],\n",
       "       [3159., 3827.],\n",
       "       [  nan, 4026.],\n",
       "       [3035., 4085.],\n",
       "       [3302., 3998.],\n",
       "       [3063., 4137.],\n",
       "       [3234., 4160.],\n",
       "       [3541., 4395.],\n",
       "       [3738., 4492.],\n",
       "       [4000., 4312.],\n",
       "       [3851., 4385.],\n",
       "       [3330., 4349.],\n",
       "       [3439., 4629.]])"
      ]
     },
     "execution_count": 299,
     "metadata": {},
     "output_type": "execute_result"
    }
   ],
   "source": [
    "v = 1\n",
    "graph2 = graph \n",
    "for i in range(50):\n",
    "    print (\"i > \", i)\n",
    "    v = i\n",
    "    print (\"v > \", v)\n",
    "    print (\"valor antigo\")\n",
    "    print (\"graph > \", graph2[v,0])\n",
    "    graph2[v,0] = graph[v,0] + rd.randint(100, 999)\n",
    "    print (\"novo valor\")\n",
    "    print (graph2[v,1])\n",
    "graph2"
   ]
  },
  {
   "cell_type": "code",
   "execution_count": 306,
   "metadata": {},
   "outputs": [
    {
     "data": {
      "text/plain": [
       "array([[1252., 2116.],\n",
       "       [1541., 2354.],\n",
       "       [1874., 2598.],\n",
       "       [1854., 2324.],\n",
       "       [1692., 2318.],\n",
       "       [1752., 2720.],\n",
       "       [1624., 2713.],\n",
       "       [1936., 2542.],\n",
       "       [2201., 2768.],\n",
       "       [1896., 2709.]])"
      ]
     },
     "execution_count": 306,
     "metadata": {},
     "output_type": "execute_result"
    }
   ],
   "source": [
    "graph2[:10]"
   ]
  },
  {
   "cell_type": "code",
   "execution_count": 301,
   "metadata": {},
   "outputs": [
    {
     "data": {
      "image/png": "[encoded data removed]",
      "text/plain": [
       "<Figure size 432x288 with 1 Axes>"
      ]
     },
     "metadata": {
      "needs_background": "light"
     },
     "output_type": "display_data"
    }
   ],
   "source": [
    "plt.plot(graph)\n",
    "plt.show()"
   ]
  },
  {
   "cell_type": "code",
   "execution_count": 358,
   "metadata": {},
   "outputs": [
    {
     "data": {
      "text/plain": [
       "array([[ 0.43270214],\n",
       "       [ 7.5814753 ],\n",
       "       [ 7.7958376 ],\n",
       "       [11.72607439],\n",
       "       [ 3.15696432],\n",
       "       [10.54426443],\n",
       "       [15.53100135],\n",
       "       [ 8.06184816],\n",
       "       [ 1.60202525],\n",
       "       [21.46534245]])"
      ]
     },
     "execution_count": 358,
     "metadata": {},
     "output_type": "execute_result"
    }
   ],
   "source": [
    "graph2 *= 3\n",
    "graph2\n",
    "\n",
    "#gera vetor aleatorio com 10 linha\n",
    "#como o valor gerado eh entre 0 e 1\n",
    "#multiplicamos para aumenta-lo\n",
    "graph = np.random.random((20,1))*22.9\n",
    "graph2 = np.random.random((20,1))*10\n",
    "graph3 = np.random.random((20,1))*3\n",
    "graph[:10]"
   ]
  },
  {
   "cell_type": "code",
   "execution_count": 369,
   "metadata": {},
   "outputs": [
    {
     "name": "stdout",
     "output_type": "stream",
     "text": [
      "g 1: 9.752133908933008 \n",
      " g 2: 4.454304498304496 \n",
      " g 3: 1.529789610674999\n"
     ]
    }
   ],
   "source": [
    "print ('g 1: {} \\n g 2: {} \\n g 3: {}'.format(graph.mean(), graph2.mean(), graph3.mean()))"
   ]
  },
  {
   "cell_type": "markdown",
   "metadata": {},
   "source": [
    "soma.shape()"
   ]
  },
  {
   "cell_type": "code",
   "execution_count": 360,
   "metadata": {},
   "outputs": [
    {
     "data": {
      "image/png": "[encoded data removed]",
      "text/plain": [
       "<Figure size 432x288 with 1 Axes>"
      ]
     },
     "metadata": {
      "needs_background": "light"
     },
     "output_type": "display_data"
    }
   ],
   "source": [
    "plt.plot(graph, linestyle='dashed', color='green')\n",
    "plt.plot(graph2, color='red', linestyle='-')\n",
    "plt.plot(graph3, color='blue', linestyle='--')\n",
    "plt.xlabel(\"eixo X\")\n",
    "plt.ylabel(\"eixo Y\")\n",
    "plt.title(\"3 vetores de 100 linhas\")\n",
    "plt.show()"
   ]
  },
  {
   "cell_type": "code",
   "execution_count": 376,
   "metadata": {},
   "outputs": [
    {
     "data": {
      "text/plain": [
       "array([[6, 9, 5, 8, 8],\n",
       "       [2, 4, 4, 2, 0],\n",
       "       [4, 1, 9, 8, 3],\n",
       "       [0, 3, 2, 7, 3],\n",
       "       [3, 7, 1, 2, 3]])"
      ]
     },
     "execution_count": 376,
     "metadata": {},
     "output_type": "execute_result"
    }
   ],
   "source": [
    "graph = np.random.randint(0, 10, size=(5,5) )\n",
    "graph"
   ]
  },
  {
   "cell_type": "code",
   "execution_count": 377,
   "metadata": {},
   "outputs": [
    {
     "data": {
      "text/plain": [
       "(5, 5)"
      ]
     },
     "execution_count": 377,
     "metadata": {},
     "output_type": "execute_result"
    }
   ],
   "source": [
    "graph.shape"
   ]
  },
  {
   "cell_type": "code",
   "execution_count": 378,
   "metadata": {},
   "outputs": [
    {
     "data": {
      "text/plain": [
       "array([[6, 2, 4, 0, 3],\n",
       "       [9, 4, 1, 3, 7],\n",
       "       [5, 4, 9, 2, 1],\n",
       "       [8, 2, 8, 7, 2],\n",
       "       [8, 0, 3, 3, 3]])"
      ]
     },
     "execution_count": 378,
     "metadata": {},
     "output_type": "execute_result"
    }
   ],
   "source": [
    "graph.T"
   ]
  },
  {
   "cell_type": "code",
   "execution_count": 375,
   "metadata": {},
   "outputs": [
    {
     "data": {
      "text/plain": [
       "array([[ 0.43270214,  7.5814753 ,  7.7958376 , 11.72607439,  3.15696432,\n",
       "        10.54426443, 15.53100135,  8.06184816,  1.60202525, 21.46534245,\n",
       "        21.79677033,  4.81595231,  7.03093038,  5.20492511,  6.32271028,\n",
       "        16.64752643, 20.00736543, 17.35842617,  1.95184547,  6.0086909 ]])"
      ]
     },
     "execution_count": 375,
     "metadata": {},
     "output_type": "execute_result"
    }
   ],
   "source": [
    "graph.T"
   ]
  },
  {
   "cell_type": "code",
   "execution_count": 388,
   "metadata": {},
   "outputs": [
    {
     "data": {
      "image/png": "[encoded data removed]",
      "text/plain": [
       "<Figure size 432x288 with 1 Axes>"
      ]
     },
     "metadata": {
      "needs_background": "light"
     },
     "output_type": "display_data"
    }
   ],
   "source": [
    "#criar uma gausiana\n",
    "mu, sigma = 1, 0.5\n",
    "v = np.random.normal(mu, sigma, 100)\n",
    "\n",
    "plt.hist(v, bins=50, density=1)\n",
    "plt.show()"
   ]
  },
  {
   "cell_type": "code",
   "execution_count": 386,
   "metadata": {},
   "outputs": [
    {
     "data": {
      "image/png": "[encoded data removed]",
      "text/plain": [
       "<Figure size 432x288 with 1 Axes>"
      ]
     },
     "metadata": {
      "needs_background": "light"
     },
     "output_type": "display_data"
    }
   ],
   "source": [
    "#criar uma gausiana\n",
    "mu, sigma = 1, 0.5\n",
    "v = np.random.normal(mu, sigma, 10000000)\n",
    "\n",
    "plt.hist(v, bins=50, density=10)\n",
    "plt.show()"
   ]
  },
  {
   "cell_type": "code",
   "execution_count": null,
   "metadata": {},
   "outputs": [],
   "source": []
  },
  {
   "cell_type": "code",
   "execution_count": null,
   "metadata": {},
   "outputs": [],
   "source": []
  }
 ],
 "metadata": {
  "kernelspec": {
   "display_name": "Python 3",
   "language": "python",
   "name": "python3"
  },
  "language_info": {
   "codemirror_mode": {
    "name": "ipython",
    "version": 3
   },
   "file_extension": ".py",
   "mimetype": "text/x-python",
   "name": "python",
   "nbconvert_exporter": "python",
   "pygments_lexer": "ipython3",
   "version": "3.7.4+"
  }
 },
 "nbformat": 4,
 "nbformat_minor": 2
}
