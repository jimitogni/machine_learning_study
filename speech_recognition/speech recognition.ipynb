{
 "cells": [
  {
   "cell_type": "code",
   "execution_count": null,
   "id": "f3593078-2d77-4086-9498-03527ad56b5d",
   "metadata": {},
   "outputs": [],
   "source": [
    "pip install openai-whisper\n",
    "pip install SpeechRecognition"
   ]
  },
  {
   "cell_type": "code",
   "execution_count": 1,
   "id": "8343fc8f-8daa-472b-8eaa-2907ff2d14eb",
   "metadata": {},
   "outputs": [
    {
     "ename": "SyntaxError",
     "evalue": "invalid syntax (1934864650.py, line 1)",
     "output_type": "error",
     "traceback": [
      "\u001b[0;36m  Cell \u001b[0;32mIn[1], line 1\u001b[0;36m\u001b[0m\n\u001b[0;31m    https://pypi.org/project/SpeechRecognition/\u001b[0m\n\u001b[0m          ^\u001b[0m\n\u001b[0;31mSyntaxError\u001b[0m\u001b[0;31m:\u001b[0m invalid syntax\n"
     ]
    }
   ],
   "source": [
    "https://pypi.org/project/SpeechRecognition/\n",
    "https://realpython.com/python-speech-recognition/\n"
   ]
  },
  {
   "cell_type": "markdown",
   "id": "a4894061-8a69-4eee-8724-6a160e5f2462",
   "metadata": {},
   "source": [
    "Libs para reconhecimento de fala:\n",
    "- openai-whisper\n",
    "- SpeechRecognition\n",
    "\n",
    "import speech_recognition as sr\n",
    "sr.__version__\n",
    "\n",
    "Each Recognizer instance has seven methods for recognizing speech from an audio source using various APIs. These are:\n",
    "\n",
    "recognize_bing(): Microsoft Bing Speech\n",
    "recognize_google(): Google Web Speech API\n",
    "recognize_google_cloud(): Google Cloud Speech - requires installation of the google-cloud-speech package\n",
    "recognize_houndify(): Houndify by SoundHound\n",
    "recognize_ibm(): IBM Speech to Text\n",
    "recognize_sphinx(): CMU Sphinx - requires installing PocketSphinx\n",
    "recognize_wit(): Wit.ai"
   ]
  },
  {
   "cell_type": "code",
   "execution_count": null,
   "id": "7a391813-466a-463c-bac9-f3f7cd31818c",
   "metadata": {},
   "outputs": [],
   "source": [
    "model = whisper.load_model(\"large\")\n",
    "\n",
    "resp = model.transcribe(\"audio.mp3\")\n",
    "\n",
    "print(resp)"
   ]
  },
  {
   "cell_type": "code",
   "execution_count": null,
   "id": "7ecdfd16-8658-4d1b-b406-9a74fe5e8309",
   "metadata": {},
   "outputs": [],
   "source": [
    "import speech_recognition as sr\n",
    "sr.__version__"
   ]
  },
  {
   "cell_type": "code",
   "execution_count": null,
   "id": "1ed56bf2-6669-41ed-aa28-3b8389f96762",
   "metadata": {},
   "outputs": [],
   "source": [
    "r = sr.Recognizer()\n",
    "r.recognize_google()"
   ]
  },
  {
   "cell_type": "code",
   "execution_count": null,
   "id": "f3b177b4-57f9-4d5a-be40-e1717c110b3d",
   "metadata": {},
   "outputs": [],
   "source": [
    "harvard = sr.AudioFile('audio.wav')\n",
    "with harvard as source:\n",
    "    audio = r.record(source)"
   ]
  },
  {
   "cell_type": "code",
   "execution_count": null,
   "id": "deb7b46e-14d9-4428-addd-766bcd8f4063",
   "metadata": {},
   "outputs": [],
   "source": [
    "type(audio)"
   ]
  },
  {
   "cell_type": "code",
   "execution_count": null,
   "id": "771f8b5e-9664-463c-ad2d-3e91950782c7",
   "metadata": {},
   "outputs": [],
   "source": [
    "r.recognize_google(audio)"
   ]
  }
 ],
 "metadata": {
  "kernelspec": {
   "display_name": "Python 3 (ipykernel)",
   "language": "python",
   "name": "python3"
  },
  "language_info": {
   "codemirror_mode": {
    "name": "ipython",
    "version": 3
   },
   "file_extension": ".py",
   "mimetype": "text/x-python",
   "name": "python",
   "nbconvert_exporter": "python",
   "pygments_lexer": "ipython3",
   "version": "3.11.9"
  }
 },
 "nbformat": 4,
 "nbformat_minor": 5
}
