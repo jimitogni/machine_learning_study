{
 "cells": [
  {
   "cell_type": "code",
   "execution_count": null,
   "id": "f3593078-2d77-4086-9498-03527ad56b5d",
   "metadata": {},
   "outputs": [],
   "source": [
    "pip install openai-whisper"
   ]
  },
  {
   "cell_type": "code",
   "execution_count": 1,
   "id": "8343fc8f-8daa-472b-8eaa-2907ff2d14eb",
   "metadata": {},
   "outputs": [
    {
     "ename": "SyntaxError",
     "evalue": "invalid syntax (1934864650.py, line 1)",
     "output_type": "error",
     "traceback": [
      "\u001b[0;36m  Cell \u001b[0;32mIn[1], line 1\u001b[0;36m\u001b[0m\n\u001b[0;31m    https://pypi.org/project/SpeechRecognition/\u001b[0m\n\u001b[0m          ^\u001b[0m\n\u001b[0;31mSyntaxError\u001b[0m\u001b[0;31m:\u001b[0m invalid syntax\n"
     ]
    }
   ],
   "source": [
    "https://pypi.org/project/SpeechRecognition/\n",
    "https://realpython.com/python-speech-recognition/\n"
   ]
  },
  {
   "cell_type": "code",
   "execution_count": null,
   "id": "7a391813-466a-463c-bac9-f3f7cd31818c",
   "metadata": {},
   "outputs": [],
   "source": [
    "model = whisper.load_model(\"large\")\n",
    "\n",
    "resp = model.transcribe(\"audio.mp3\")\n",
    "\n",
    "print(resp)"
   ]
  },
  {
   "cell_type": "code",
   "execution_count": null,
   "id": "7ecdfd16-8658-4d1b-b406-9a74fe5e8309",
   "metadata": {},
   "outputs": [],
   "source": []
  }
 ],
 "metadata": {
  "kernelspec": {
   "display_name": "Python 3 (ipykernel)",
   "language": "python",
   "name": "python3"
  },
  "language_info": {
   "codemirror_mode": {
    "name": "ipython",
    "version": 3
   },
   "file_extension": ".py",
   "mimetype": "text/x-python",
   "name": "python",
   "nbconvert_exporter": "python",
   "pygments_lexer": "ipython3",
   "version": "3.11.9"
  }
 },
 "nbformat": 4,
 "nbformat_minor": 5
}
